{
  "nbformat": 4,
  "nbformat_minor": 0,
  "metadata": {
    "colab": {
      "name": "(Week_8)_Camera_Geometry.ipynb",
      "provenance": [],
      "collapsed_sections": [
        "TgFDOQD0mxL2"
      ]
    },
    "kernelspec": {
      "display_name": "Python 3",
      "language": "python",
      "name": "python3"
    },
    "language_info": {
      "codemirror_mode": {
        "name": "ipython",
        "version": 3
      },
      "file_extension": ".py",
      "mimetype": "text/x-python",
      "name": "python",
      "nbconvert_exporter": "python",
      "pygments_lexer": "ipython3",
      "version": "3.7.3"
    }
  },
  "cells": [
    {
      "cell_type": "code",
      "metadata": {
        "id": "XZBLjVlNlgox"
      },
      "source": [
        "%matplotlib inline\n",
        "import matplotlib.pyplot as plt\n",
        "import numpy as np\n",
        "import cv2\n",
        "from scipy import signal"
      ],
      "execution_count": 1,
      "outputs": []
    },
    {
      "cell_type": "markdown",
      "metadata": {
        "id": "TgFDOQD0mxL2"
      },
      "source": [
        "### Read this First\n",
        "\n",
        "#### Remember that `tab` is is useful for autocompletion.\n",
        "\n",
        "#### Remember that `shift + tab` is useful for rapidly obtaining usage + documentation."
      ]
    },
    {
      "cell_type": "markdown",
      "metadata": {
        "id": "kgqGhZUDmz5y"
      },
      "source": [
        "###**3D Camera Geometry**"
      ]
    },
    {
      "cell_type": "markdown",
      "metadata": {
        "id": "mnsOTCvam3dI"
      },
      "source": [
        "**In class we covered material for single and multi-camera systems. This notebook will help ground some of these geometric concepts.**\n",
        "\n",
        "**First, we'll define some of the components helpful for for camera geometry**"
      ]
    },
    {
      "cell_type": "code",
      "metadata": {
        "id": "XM5v1tZzq_7l"
      },
      "source": [
        "def rotatex(t) :\n",
        "  \"\"\" Creates a 3D rotation matrix representing a rotation about the x-axis by t radians \"\"\"\n",
        "  return np.array([[1,0,0],[0,np.cos(t),-np.sin(t)],[0,np.sin(t),np.cos(t)]])\n",
        "\n",
        "def rotatey(t) :\n",
        "  \"\"\" Creates a 3D rotation matrix representing a rotation about the y-axis by t radians \"\"\"\n",
        "  return np.array([[np.cos(t),0,np.sin(t)],[0,1,0],[-np.sin(t),0,np.cos(t)]])\n",
        "\n",
        "def rotatez(t) :\n",
        "  \"\"\" Creates a 3D rotation matrix representing a rotation about the z-axis by t radians \"\"\"\n",
        "  return [[np.cos(t),-np.sin(t),0],[np.sin(t),np.cos(t),0],[0,0,1]]\n",
        "\n",
        "def rotate2D(t) :\n",
        "  \"\"\" Creates a 2D rotation matrix representing a rotation by t radians \"\"\"\n",
        "  return [[np.cos(t),-np.sin(t)],[np.sin(t),np.cos(t)]]\n",
        "\n",
        "def trans(x,y,z) :\n",
        "  \"\"\" Creates a 3D translation vector of shape 3x1 \"\"\"\n",
        "  return np.array([[x,y,z]]).T\n",
        "\n",
        "def pointh(x,y,z) :\n",
        "  \"\"\" Creates a 3D point in homogeneous coordinates \"\"\"\n",
        "  return np.array([[x,y,z,1]].T)\n",
        "\n",
        "def htrans(R,t) :\n",
        "  \"\"\" Creates a 3D homogeneous transformation matrix \"\"\"\n",
        "  return np.concatenate((np.concatenate((R,t),axis=1),np.array([[0,0,0,1]])))"
      ],
      "execution_count": 2,
      "outputs": []
    },
    {
      "cell_type": "markdown",
      "metadata": {
        "id": "9BgcMwI-jrGj"
      },
      "source": [
        "**Now, we'll define some components for camera internal geometry**"
      ]
    },
    {
      "cell_type": "code",
      "metadata": {
        "id": "difUAAAk6Avj"
      },
      "source": [
        "def Kmatrix(sx,sy,ox,oy) :\n",
        "  \"\"\" Creates the matrix K that represents the calibration matrix \"\"\"\n",
        "  return np.array([[sx,0,ox],[0,sy,oy],[0,0,1]])\n",
        "\n",
        "def Mmatrix(K) :\n",
        "  \"\"\" Creates the matrix M that represents the intrinsic matrix \"\"\"\n",
        "  return np.concatenate((K, np.array([[0,0,0]]).T),axis=1)"
      ],
      "execution_count": 3,
      "outputs": []
    },
    {
      "cell_type": "markdown",
      "metadata": {
        "id": "u_03oZyujrGm"
      },
      "source": [
        "**Now, write a function that, given a intrinsic matrix M and a extrinsic matrix H, computes the projection matrix P.** "
      ]
    },
    {
      "cell_type": "code",
      "metadata": {
        "id": "fgW6r4yRjrGn"
      },
      "source": [
        "def Pmatrix(M, H):\n",
        "  \"\"\" Creates a 3x4 projection matrix P that relates world coordinates to pixel coordinates\n",
        "      Args:\n",
        "        M: 3x4 matrix representing the intrinsic parameters of the camera\n",
        "        H: 4x4 matrix representing the extrinsic parameters of the camera\n",
        "      Return:\n",
        "        P: 3x4 matrix relating world coordinates to pixel coordinates\n",
        "  \"\"\"\n",
        "  P = M @ H\n",
        "  return P"
      ],
      "execution_count": 4,
      "outputs": []
    },
    {
      "cell_type": "markdown",
      "metadata": {
        "id": "bcPPA9g2pO3x"
      },
      "source": [
        "**Now, let's make some real world points to project.  Since this is a camera, we'll make the z axis larger than x and y**"
      ]
    },
    {
      "cell_type": "code",
      "metadata": {
        "id": "zLV-RSixjrGs",
        "outputId": "5a2efea4-4d6c-46a9-914c-2b6d0ca0253b",
        "colab": {
          "base_uri": "https://localhost:8080/",
          "height": 265
        }
      },
      "source": [
        "# Make 20 random 3D points stacked horizontally \n",
        "pts = np.concatenate((np.random.random([3,20]),np.ones([1,20])),axis=0)\n",
        "pts[0:2,:] = (pts[0:2,:] - 0.5) * 100\n",
        "pts[2,:] = (pts[2,:] - 0.5) * 100 + 1000\n",
        "\n",
        "# Plot these points\n",
        "fig = plt.figure()\n",
        "ax = fig.add_subplot(111, projection='3d')\n",
        "plt.scatter(pts[0],pts[1],zs=pts[2],s=5)"
      ],
      "execution_count": 5,
      "outputs": [
        {
          "output_type": "execute_result",
          "data": {
            "text/plain": [
              "<mpl_toolkits.mplot3d.art3d.Path3DCollection at 0x7f8b055e9c88>"
            ]
          },
          "metadata": {
            "tags": []
          },
          "execution_count": 5
        },
        {
          "output_type": "display_data",
          "data": {
            "image/png": "[encoded data removed]",
            "text/plain": [
              "<Figure size 432x288 with 1 Axes>"
            ]
          },
          "metadata": {
            "tags": [],
            "needs_background": "light"
          }
        }
      ]
    },
    {
      "cell_type": "markdown",
      "metadata": {
        "id": "V4jHqcJKtVkb"
      },
      "source": [
        "**Create an K matrix with parameters $s_x=s_y=1000$, $o_x=52.2$, $o_y=55.3$. Create a H matrix with identity rotation and a translation $(x, y, z)=(42, 33, 1000)$. Then, using those, create the P matrix and print the resulting matrix.**"
      ]
    },
    {
      "cell_type": "code",
      "metadata": {
        "id": "Tr-xvJ7buoOT",
        "outputId": "99d69b58-530b-4f34-afb5-2e43b377a87b",
        "colab": {
          "base_uri": "https://localhost:8080/"
        }
      },
      "source": [
        "K = np.array([[1000, 0, 52.2, 0], [0, 1000, 55.3, 0], [0, 0, 1, 0]])\n",
        "H = np.array([[1, 0, 0, 42], [0, 1, 0, 33], [0, 0, 1, 1000], [0, 0, 0, 1]])\n",
        "\n",
        "P = Pmatrix(K, H)\n",
        "print(P)"
      ],
      "execution_count": 6,
      "outputs": [
        {
          "output_type": "stream",
          "text": [
            "[[1.00e+03 0.00e+00 5.22e+01 9.42e+04]\n",
            " [0.00e+00 1.00e+03 5.53e+01 8.83e+04]\n",
            " [0.00e+00 0.00e+00 1.00e+00 1.00e+03]]\n"
          ],
          "name": "stdout"
        }
      ]
    },
    {
      "cell_type": "markdown",
      "metadata": {
        "id": "bwu3dh1N0sEA"
      },
      "source": [
        "**Transform our real world points pts using this projection matrix and store the resulting pixel coordinates into pix_pts. Remember that the results are in homogeneous coordinates so when we plot it we have to ensure that $w=1$ for hoomogeneous coordinate $(u, v, w)$**"
      ]
    },
    {
      "cell_type": "code",
      "metadata": {
        "id": "1kUEbvxavTQD",
        "outputId": "d58cddab-11a5-47ec-af39-6696b845fd13",
        "colab": {
          "base_uri": "https://localhost:8080/",
          "height": 282
        }
      },
      "source": [
        "pix_pts = P @ pts\n",
        "\n",
        "print(pix_pts.shape)\n",
        "\n",
        "# Plot these points\n",
        "fig = plt.figure()\n",
        "plt.scatter(pix_pts[0], pix_pts[1], s=5)\n",
        "plt.gca().invert_yaxis()"
      ],
      "execution_count": 7,
      "outputs": [
        {
          "output_type": "stream",
          "text": [
            "(3, 20)\n"
          ],
          "name": "stdout"
        },
        {
          "output_type": "display_data",
          "data": {
            "image/png": "[encoded data removed]",
            "text/plain": [
              "<Figure size 432x288 with 1 Axes>"
            ]
          },
          "metadata": {
            "tags": [],
            "needs_background": "light"
          }
        }
      ]
    },
    {
      "cell_type": "markdown",
      "metadata": {
        "id": "LldzxXYp1A0d"
      },
      "source": [
        "**Why did I invert the y axis here?**"
      ]
    },
    {
      "cell_type": "markdown",
      "metadata": {
        "id": "XRnX-02R1Cw7"
      },
      "source": [
        "The due to the way pinhole cameras work, the resulting image ends up being flipped, since light rays that originate higher up in the vertical dircetion cross the origin and hit the image plane on a lower region, while the opposite is true for light rays that originate in the world coordinates from lower on the vertical axis. The same thing happens along the horizontal axis. So to display an image in the way that preserves world coordinate vertical orientation, we must flip the y axis."
      ]
    },
    {
      "cell_type": "markdown",
      "metadata": {
        "id": "w5N9JsC_1DIV"
      },
      "source": [
        "**Now we want to compare this with the plot of pts above to see how similar our camera view with the real world. Plot pts as before using scatter, but now adjust viewpoint of the plot to have elevation as $-90$ and azimuth as $-90$.**"
      ]
    },
    {
      "cell_type": "code",
      "metadata": {
        "id": "BRKx6lCHwPRL",
        "outputId": "d52fbd43-9f70-4c1a-bc2d-1047a382a21c",
        "colab": {
          "base_uri": "https://localhost:8080/",
          "height": 265
        }
      },
      "source": [
        "# Plot pts again but with a different viewpoint\n",
        "fig = plt.figure()\n",
        "ax = fig.add_subplot(111, projection='3d')\n",
        "ax.view_init(90, 90)\n",
        "plt.scatter(pts[0],pts[1],zs=pts[2],s=5)\n",
        "\n",
        "ax.set_xlabel('X Label')\n",
        "ax.set_ylabel('Y Label')\n",
        "ax.set_zlabel('Z Label')"
      ],
      "execution_count": 8,
      "outputs": [
        {
          "output_type": "execute_result",
          "data": {
            "text/plain": [
              "Text(0.5, 0, 'Z Label')"
            ]
          },
          "metadata": {
            "tags": []
          },
          "execution_count": 8
        },
        {
          "output_type": "display_data",
          "data": {
            "image/png": "[encoded data removed]",
            "text/plain": [
              "<Figure size 432x288 with 1 Axes>"
            ]
          },
          "metadata": {
            "tags": [],
            "needs_background": "light"
          }
        }
      ]
    },
    {
      "cell_type": "markdown",
      "metadata": {
        "id": "YTeEyCZ51lrS"
      },
      "source": [
        "**Which directions are the x, y, and z axes? (i.e. which is the vertical/horizontal/in or out of plane axis? Which direction is the positive direction for each?)**"
      ]
    },
    {
      "cell_type": "markdown",
      "metadata": {
        "id": "IoipQBW01ykt"
      },
      "source": [
        "Vertical is y, horizontal is x, out of page is z\n"
      ]
    },
    {
      "cell_type": "markdown",
      "metadata": {
        "id": "bM2T0uuh1y3N"
      },
      "source": [
        "**Do your camera points look the same as the real world points? (They should)**"
      ]
    },
    {
      "cell_type": "markdown",
      "metadata": {
        "id": "fbvXpZPV2SKz"
      },
      "source": [
        "Thy look the same except they are flipped horizontally."
      ]
    },
    {
      "cell_type": "markdown",
      "metadata": {
        "id": "hEj5UVwO14vX"
      },
      "source": [
        "**Now, change the parameters such that $o_x=0$, recompute the projection matrix, reproject the real world points to the pixel coordinates and plot it as before.**"
      ]
    },
    {
      "cell_type": "code",
      "metadata": {
        "id": "JTmj1soR2Ryf",
        "outputId": "d5fc0052-96c8-429f-aff2-5f78d036d997",
        "colab": {
          "base_uri": "https://localhost:8080/",
          "height": 282
        }
      },
      "source": [
        "K = np.array([[1000, 0, 0, 0], [0, 1000, 55.3, 0], [0, 0, 0, 1]])\n",
        "H = np.array([[1, 0, 0, 42], [0, 1, 0, 33], [0, 0, 1, 1000], [0, 0, 0, 1]])\n",
        "\n",
        "P = Pmatrix(K, H)\n",
        "pix_pts_l = P @ pts\n",
        "\n",
        "print(pix_pts_l.shape)\n",
        "\n",
        "# Plot these points\n",
        "fig = plt.figure()\n",
        "plt.scatter(pix_pts_l[0], pix_pts_l[1], s=5)\n",
        "plt.gca().invert_yaxis()"
      ],
      "execution_count": 29,
      "outputs": [
        {
          "output_type": "stream",
          "text": [
            "(3, 20)\n"
          ],
          "name": "stdout"
        },
        {
          "output_type": "display_data",
          "data": {
            "image/png": "[encoded data removed]",
            "text/plain": [
              "<Figure size 432x288 with 1 Axes>"
            ]
          },
          "metadata": {
            "tags": [],
            "needs_background": "light"
          }
        }
      ]
    },
    {
      "cell_type": "markdown",
      "metadata": {
        "id": "hyfA3rPk3AA0"
      },
      "source": [
        "**What changed between this and the previous plot you made? What does the parameter $o_x$ represent?**"
      ]
    },
    {
      "cell_type": "markdown",
      "metadata": {
        "id": "vvea9MWd3NMm"
      },
      "source": [
        "The origin is shifted along the horizontal direction. The o_x represents the x pixel coordinate of the origin"
      ]
    },
    {
      "cell_type": "markdown",
      "metadata": {
        "id": "ZOPBS_3-3OS-"
      },
      "source": [
        "**Now change $s_y=400$ and do the same thing. Keep $o_x=0$ so you can compare without scrolling too far.**"
      ]
    },
    {
      "cell_type": "code",
      "metadata": {
        "id": "kWh4IVzJ3Nhi",
        "outputId": "8dc86489-5f0b-43de-d79c-b9bda73b3d7d",
        "colab": {
          "base_uri": "https://localhost:8080/",
          "height": 282
        }
      },
      "source": [
        "K = np.array([[1000, 0, 0, 0], [0, 400, 55.3, 0], [0, 0, 0, 1]])\n",
        "H = np.array([[1, 0, 0, 42], [0, 1, 0, 33], [0, 0, 1, 1000], [0, 0, 0, 1]])\n",
        "\n",
        "P = Pmatrix(K, H)\n",
        "pix_pts_r = P @ pts\n",
        "\n",
        "print(pix_pts_r.shape)\n",
        "\n",
        "# Plot these points\n",
        "fig = plt.figure()\n",
        "plt.scatter(pix_pts_r[0], pix_pts_r[1], s=5)\n",
        "plt.gca().invert_yaxis()"
      ],
      "execution_count": 30,
      "outputs": [
        {
          "output_type": "stream",
          "text": [
            "(3, 20)\n"
          ],
          "name": "stdout"
        },
        {
          "output_type": "display_data",
          "data": {
            "image/png": "[encoded data removed]",
            "text/plain": [
              "<Figure size 432x288 with 1 Axes>"
            ]
          },
          "metadata": {
            "tags": [],
            "needs_background": "light"
          }
        }
      ]
    },
    {
      "cell_type": "markdown",
      "metadata": {
        "id": "6pCR6k0y3sFZ"
      },
      "source": [
        "**What changed between this and the previous plot you made? What does the parameter $s_y$ represent?**"
      ]
    },
    {
      "cell_type": "markdown",
      "metadata": {
        "id": "9Nrn9sj63twD"
      },
      "source": [
        "The vertical axis has a smaller scale. The s_y represents the scale of the y axis."
      ]
    },
    {
      "cell_type": "markdown",
      "metadata": {
        "id": "sEHIKzrR3uB2"
      },
      "source": [
        "**Now let's try and recover the projection matrix. We've already covered this in the Week 6 Python Notebook, so it should be relatively straightforward. Using the real world coordinates pts and the pixel coordinates obtained when we set $s_y=400$ and $o_x=0$ above, create the $A$ matrix in $Ap=0$ that was covered in class to solve for the projection matrix.**"
      ]
    },
    {
      "cell_type": "code",
      "metadata": {
        "id": "zLL0NnJS86w4"
      },
      "source": [
        "A = np.zeros((2 * 20, 12))\n",
        "\n",
        "j = 0\n",
        "\n",
        "location = pts.T\n",
        "points = pix_pts.T\n",
        "\n",
        "\n",
        "for i in range(20):\n",
        "  l = location[i]\n",
        "  p = points[i]\n",
        "  A[j] = np.array([l[0], l[1], l[2], 1, 0, 0, 0, 0, -p[0] * l[0], -p[0] * l[1], -p[0] * l[2], -p[0]])\n",
        "  A[j+1] = np.array([0, 0, 0, 0, l[0], l[1], l[2], 1, -p[1] * l[0], -p[1] * l[1], -p[1] * l[2], -p[1]])\n",
        "  j += 2"
      ],
      "execution_count": 11,
      "outputs": []
    },
    {
      "cell_type": "markdown",
      "metadata": {
        "id": "MkcL-NWr9jQ6"
      },
      "source": [
        "**Compute the projection matrix P by solving for $Ap=0$, and print it. Compare it with the projection matrix computed above to confirm that they are identical.**"
      ]
    },
    {
      "cell_type": "code",
      "metadata": {
        "id": "QxnJFVIZ2s0K",
        "outputId": "dfda2143-171e-4ad3-ee3a-2415e25d2687",
        "colab": {
          "base_uri": "https://localhost:8080/"
        }
      },
      "source": [
        "eigenValues, eigenVectors = np.linalg.eig(A.T @ A)\n",
        "\n",
        "idx = eigenValues.argsort()  \n",
        "eigenValues = eigenValues[idx]\n",
        "eigenVectors = eigenVectors[:,idx]\n",
        "\n",
        "v = eigenVectors[:, 0]\n",
        "\n",
        "p = np.zeros((3,4))\n",
        "p[0] = v[:4]\n",
        "p[1] = v[4:8]\n",
        "p[2] = v[8:]\n",
        "\n",
        "p /= p[2,]\n",
        "\n",
        "print(p.round())"
      ],
      "execution_count": 12,
      "outputs": [
        {
          "output_type": "stream",
          "text": [
            "[[ 2.85183656e+09  6.90350000e+04  6.78830000e+04  4.19870000e+04]\n",
            " [ 1.22939000e+05 -1.95433897e+09  1.08060218e+08  6.84700000e+04]\n",
            " [ 1.00000000e+00  1.00000000e+00  1.00000000e+00  1.00000000e+00]]\n"
          ],
          "name": "stdout"
        }
      ]
    },
    {
      "cell_type": "markdown",
      "metadata": {
        "id": "CyWt2Cz290Xb"
      },
      "source": [
        "**Recover the K and R matrices, and then the translation vector t using RQ factorization, and print them to make sure they are consistent with the parameters that you provided to create the projection matrix.**"
      ]
    },
    {
      "cell_type": "code",
      "metadata": {
        "id": "LnxnKxgu2s3i",
        "outputId": "d3d0473e-681f-40fe-b151-d6d77854ecfb",
        "colab": {
          "base_uri": "https://localhost:8080/"
        }
      },
      "source": [
        "R, K = np.linalg.qr(p[:, :3])\n",
        "t = np.linalg.inv(K) @ p[:, 3]\n",
        "# t /= 3\n",
        "\n",
        "print(K.round())\n",
        "print(R.round())\n",
        "print(t.round())"
      ],
      "execution_count": 13,
      "outputs": [
        {
          "output_type": "stream",
          "text": [
            "[[-2.85183656e+09  1.52140000e+04 -7.25420000e+04]\n",
            " [ 0.00000000e+00  1.95433897e+09 -1.08060215e+08]\n",
            " [ 0.00000000e+00  0.00000000e+00  1.00000000e+00]]\n",
            "[[-1.  0. -0.]\n",
            " [-0. -1.  0.]\n",
            " [-0.  0.  1.]]\n",
            "[-0.  0.  1.]\n"
          ],
          "name": "stdout"
        }
      ]
    },
    {
      "cell_type": "markdown",
      "metadata": {
        "id": "bDvLpXd5-y7j"
      },
      "source": [
        "**Now pick your own parameters for the intrinsic and extrinsic matrices, project pts, and then recover the projection matrix P. Double check that you're able to recover the matrix.**"
      ]
    },
    {
      "cell_type": "code",
      "metadata": {
        "id": "KAr5xBFi2suZ",
        "outputId": "0e7dd9d9-6558-4e47-85aa-a28456491233",
        "colab": {
          "base_uri": "https://localhost:8080/",
          "height": 456
        }
      },
      "source": [
        "K = np.array([[730, 0, 94, 0], [0, 400, 18, 0], [0, 0, 0, 1]])\n",
        "H = np.array([[1, 0, 0, 42], [0, 1, 0, 33], [0, 0, 1, 1000], [0, 0, 0, 1]])\n",
        "\n",
        "P = Pmatrix(K, H)\n",
        "pix_pts = P @ pts\n",
        "\n",
        "print(pix_pts.shape)\n",
        "\n",
        "# Plot these points\n",
        "fig = plt.figure()\n",
        "plt.scatter(pix_pts[0], pix_pts[1], s=5)\n",
        "plt.gca().invert_yaxis()\n",
        "\n",
        "\n",
        "A = np.zeros((2 * 20, 12))\n",
        "\n",
        "j = 0\n",
        "\n",
        "location = pts.T\n",
        "points = pix_pts.T\n",
        "\n",
        "\n",
        "for i in range(20):\n",
        "  l = location[i]\n",
        "  p = points[i]\n",
        "  A[j] = np.array([l[0], l[1], l[2], 1, 0, 0, 0, 0, -p[0] * l[0], -p[0] * l[1], -p[0] * l[2], -p[0]])\n",
        "  A[j+1] = np.array([0, 0, 0, 0, l[0], l[1], l[2], 1, -p[1] * l[0], -p[1] * l[1], -p[1] * l[2], -p[1]])\n",
        "  j += 2\n",
        "\n",
        "eigenValues, eigenVectors = np.linalg.eig(A.T @ A)\n",
        "\n",
        "idx = eigenValues.argsort()  \n",
        "eigenValues = eigenValues[idx]\n",
        "eigenVectors = eigenVectors[:,idx]\n",
        "\n",
        "v = eigenVectors[:, 0]\n",
        "\n",
        "p = np.zeros((3,4))\n",
        "p[0] = v[:4]\n",
        "p[1] = v[4:8]\n",
        "p[2] = v[8:]\n",
        "\n",
        "p /= p[2,]\n",
        "\n",
        "print(p.round())\n",
        "\n",
        "R, K = np.linalg.qr(p[:, :3])\n",
        "t = np.linalg.inv(K) @ p[:, 3]\n",
        "# t /= 3\n",
        "\n",
        "print(K.round())\n",
        "print(R.round())\n",
        "print(t.round())"
      ],
      "execution_count": 26,
      "outputs": [
        {
          "output_type": "stream",
          "text": [
            "(3, 20)\n",
            "[[-5.1705764e+07  2.2872900e+05  1.8548030e+06  1.1863900e+05]\n",
            " [ 4.0905000e+04  2.0321381e+07  3.6100300e+05  3.0142000e+04]\n",
            " [ 1.0000000e+00  1.0000000e+00  1.0000000e+00  1.0000000e+00]]\n",
            "[[ 5.1705780e+07 -2.1265200e+05 -1.8545170e+06]\n",
            " [ 0.0000000e+00 -2.0321555e+07 -3.6247000e+05]\n",
            " [ 0.0000000e+00  0.0000000e+00  1.0000000e+00]]\n",
            "[[-1. -0.  0.]\n",
            " [ 0. -1. -0.]\n",
            " [ 0. -0.  1.]]\n",
            "[ 0. -0.  1.]\n"
          ],
          "name": "stdout"
        },
        {
          "output_type": "display_data",
          "data": {
            "image/png": "[encoded data removed]",
            "text/plain": [
              "<Figure size 432x288 with 1 Axes>"
            ]
          },
          "metadata": {
            "tags": [],
            "needs_background": "light"
          }
        }
      ]
    },
    {
      "cell_type": "markdown",
      "metadata": {
        "id": "zYmdlls5_AcF"
      },
      "source": [
        "###**Uncalibrated stereo**"
      ]
    },
    {
      "cell_type": "markdown",
      "metadata": {
        "id": "lMn8ygXotcwZ"
      },
      "source": [
        "**Now that we're more confident with single camera geometry, let's try relate the geometries and the viewpoints of two cameras. The goal of this is to be able to find a relationship between the location of an object in one camera view and the location of the object in the other camera view.**"
      ]
    },
    {
      "cell_type": "markdown",
      "metadata": {
        "id": "2nCvYbKnti5r"
      },
      "source": [
        "**Here, let's create 20 random points again** "
      ]
    },
    {
      "cell_type": "code",
      "metadata": {
        "id": "qtHva4McD_i1"
      },
      "source": [
        "# Make 20 random 3D points stacked horizontally \n",
        "npoints = 20\n",
        "pts = np.concatenate((np.random.random([3, npoints]),np.ones([1, npoints])),axis=0)\n",
        "pts[0:2,:] = (pts[0:2,:] - 0.5) * 100\n",
        "pts[2,:] = (pts[2,:] - 0.5) * 100 + 1000\n",
        "colors = plt.cm.rainbow(np.linspace(0, 1, npoints))"
      ],
      "execution_count": 14,
      "outputs": []
    },
    {
      "cell_type": "markdown",
      "metadata": {
        "id": "Kp-0lzB3uEK6"
      },
      "source": [
        "**We also plot these points, is a couple of different views that will make more sense that the default view.**"
      ]
    },
    {
      "cell_type": "code",
      "metadata": {
        "id": "tCVSJjSDJEwx",
        "outputId": "351c0ddf-9fe6-4776-c1e0-62b335583fe2",
        "colab": {
          "base_uri": "https://localhost:8080/",
          "height": 423
        }
      },
      "source": [
        "# Plot these points\n",
        "fig = plt.figure(figsize=(48, 8))\n",
        "ax = fig.add_subplot(131, projection='3d')\n",
        "plt.scatter(pts[0],pts[1],zs=pts[2],s=21, c=colors)\n",
        "ax.view_init(elev=-70, azim=-90)\n",
        "\n",
        "ax2 = fig.add_subplot(132, projection='3d')\n",
        "plt.scatter(pts[0],pts[1],zs=pts[2],s=21, c=colors)\n",
        "ax2.view_init(elev=-30, azim=-90)"
      ],
      "execution_count": 15,
      "outputs": [
        {
          "output_type": "display_data",
          "data": {
            "image/png": "[encoded data removed]",
            "text/plain": [
              "<Figure size 3456x576 with 2 Axes>"
            ]
          },
          "metadata": {
            "tags": [],
            "needs_background": "light"
          }
        }
      ]
    },
    {
      "cell_type": "markdown",
      "metadata": {
        "id": "g3DB6EtMuLi8"
      },
      "source": [
        "**Now we want to simulate two cameras. For camera 1, create a projection matrix with parameters $s_x=s_y=1000$, $o_x=35$, $o_y=55.3$, with a y-axis rotation by -0.3 radians, and a translation vector of $[280, 33, 1000]$.** \n",
        "\n",
        "**Project the real world pts above into the view of this camera, and plot these pixel coordinates with the same colours as above corresponding to each point (set c=colors) and remember to invert the y-axis.**"
      ]
    },
    {
      "cell_type": "code",
      "metadata": {
        "id": "9396tWlYFb_N",
        "outputId": "41c7c77d-7c02-406e-acd3-d4e5220c170d",
        "colab": {
          "base_uri": "https://localhost:8080/",
          "height": 282
        }
      },
      "source": [
        "K = np.array([[1000, 0, 35, 0], [0, 1000, 55.3, 0], [0, 0, 1, 0]])\n",
        "H = np.identity(4)\n",
        "H[:3,:3] = rotatey(-0.3)\n",
        "H[:,3] = np.array([280, 33, 1000, 1])\n",
        "\n",
        "P = Pmatrix(K, H)\n",
        "left = P @ pts\n",
        "\n",
        "print(left.shape)\n",
        "\n",
        "# Plot these points\n",
        "fig = plt.figure()\n",
        "plt.scatter(left[0], left[1], s=5, c=colors)\n",
        "plt.gca().invert_yaxis()"
      ],
      "execution_count": 16,
      "outputs": [
        {
          "output_type": "stream",
          "text": [
            "(3, 20)\n"
          ],
          "name": "stdout"
        },
        {
          "output_type": "display_data",
          "data": {
            "image/png": "[encoded data removed]",
            "text/plain": [
              "<Figure size 432x288 with 1 Axes>"
            ]
          },
          "metadata": {
            "tags": [],
            "needs_background": "light"
          }
        }
      ]
    },
    {
      "cell_type": "markdown",
      "metadata": {
        "id": "ZlIe1WaKuzzc"
      },
      "source": [
        "**Now simulate camera 2, by creating a projection matrix with parameters $s_x=s_y=1000$, $o_x=35$, $o_y=55.3$, with a y-axis rotation by 0.3 radians, and a translation vector of $[390, 33, 1000]$.** \n",
        "\n",
        "**Project the real world pts above into the view of this camera, and plot these pixel coordinates with the same colours as above corresponding to each point (set c=colors) and remember to invert the y-axis.**"
      ]
    },
    {
      "cell_type": "code",
      "metadata": {
        "id": "ecQkIIQLF0fT",
        "outputId": "199f8723-4618-460f-cd91-ebdb05c27a34",
        "colab": {
          "base_uri": "https://localhost:8080/",
          "height": 282
        }
      },
      "source": [
        "K = np.array([[1000, 0, 35, 0], [0, 1000, 55.3, 0], [0, 0, 1, 0]])\n",
        "H = np.identity(4)\n",
        "H[:3,:3] = rotatey(0.3)\n",
        "H[:,3] = np.array([390, 33, 1000, 1])\n",
        "\n",
        "P = Pmatrix(K, H)\n",
        "right = P @ pts\n",
        "\n",
        "print(right.shape)\n",
        "\n",
        "# Plot these points\n",
        "fig = plt.figure()\n",
        "plt.scatter(right[0], right[1], s=5, c=colors)\n",
        "plt.gca().invert_yaxis()"
      ],
      "execution_count": 17,
      "outputs": [
        {
          "output_type": "stream",
          "text": [
            "(3, 20)\n"
          ],
          "name": "stdout"
        },
        {
          "output_type": "display_data",
          "data": {
            "image/png": "[encoded data removed]",
            "text/plain": [
              "<Figure size 432x288 with 1 Axes>"
            ]
          },
          "metadata": {
            "tags": [],
            "needs_background": "light"
          }
        }
      ]
    },
    {
      "cell_type": "markdown",
      "metadata": {
        "id": "3_jqAuRRu6wI"
      },
      "source": [
        "**Which camera is the camera on the left? How can you tell?**"
      ]
    },
    {
      "cell_type": "markdown",
      "metadata": {
        "id": "Abf7HInuu-Cq"
      },
      "source": [
        "The first camera is on the left since the x coordinate is smaller and the rotation is to the right."
      ]
    },
    {
      "cell_type": "markdown",
      "metadata": {
        "id": "Tmwrp2dou-t1"
      },
      "source": [
        "**Now we have the pixel coordiantes in both images and we know which pairs of points correspond to each other, we can solve for the fundamental matrix, which relates pixel coordinates from one image to another.**\n",
        "\n",
        "**Below, fill in the matrix A that you find in slide 46**"
      ]
    },
    {
      "cell_type": "code",
      "metadata": {
        "id": "yeoBPfYvKOa9"
      },
      "source": [
        "A = np.zeros((npoints, 9))\n",
        "\n",
        "leftT = left.T\n",
        "rightT = right.T\n",
        "\n",
        "for i in range(npoints):\n",
        "  l = leftT[i]\n",
        "  r = rightT[i]\n",
        "  A[i] = np.array([l[0]*r[0], l[0]*r[1], l[0], l[1]*r[0], l[1]*r[1], l[1], r[0], r[1], 1])"
      ],
      "execution_count": 18,
      "outputs": []
    },
    {
      "cell_type": "markdown",
      "metadata": {
        "id": "THnrTDH6vUV8"
      },
      "source": [
        "**Solve for the fundamental matrix given that $Af=0$, and print out the fundamental matrix F. For reference please see slide 62.**"
      ]
    },
    {
      "cell_type": "code",
      "metadata": {
        "id": "Owq2lMP6NLzl",
        "outputId": "c0be15dd-1937-41a2-fcac-48860f332ebe",
        "colab": {
          "base_uri": "https://localhost:8080/"
        }
      },
      "source": [
        "eigenValues, eigenVectors = np.linalg.eig(A.T @ A)\n",
        "\n",
        "idx = eigenValues.argsort()  \n",
        "eigenValues = eigenValues[idx]\n",
        "eigenVectors = eigenVectors[:,idx]\n",
        "\n",
        "v = eigenVectors[:, 0]\n",
        "v /= v[-1]\n",
        "\n",
        "F = v.reshape(3,3)\n",
        "print(F.round())"
      ],
      "execution_count": 20,
      "outputs": [
        {
          "output_type": "stream",
          "text": [
            "[[ 0.  0. -0.]\n",
            " [-0. -0.  0.]\n",
            " [-0. -0.  1.]]\n"
          ],
          "name": "stdout"
        }
      ]
    },
    {
      "cell_type": "markdown",
      "metadata": {
        "id": "9NLTaPJdvs1m"
      },
      "source": [
        "**Try and recover the essential matrix. We can do this because you already know the calibration matrices $K_r$ and $K_l$. Display the result**"
      ]
    },
    {
      "cell_type": "code",
      "metadata": {
        "id": "gzpfEbMGWNse",
        "outputId": "d47b7ee2-b2e4-4d88-c834-5352a4065119",
        "colab": {
          "base_uri": "https://localhost:8080/"
        }
      },
      "source": [
        "K = np.array([[1000, 0, 35], [0, 1000, 55.3], [0, 0, 1]])\n",
        "E = np.linalg.inv(K) @ F @ np.linalg.inv(K)\n",
        "print(E)"
      ],
      "execution_count": 21,
      "outputs": [
        {
          "output_type": "stream",
          "text": [
            "[[ 4.26598206e-11  2.81721570e-09 -3.50001588e-02]\n",
            " [ 6.74025165e-11  4.45120080e-09 -5.53001680e-02]\n",
            " [-1.21885202e-09 -8.04918771e-08  1.00000449e+00]]\n"
          ],
          "name": "stdout"
        }
      ]
    },
    {
      "cell_type": "markdown",
      "metadata": {
        "id": "FO_Vno6TwHdc"
      },
      "source": [
        "**Given the essential matrix, we can also recover the rotation between the two cameras. Compute $R$, the rotation between the two cameras, using the essential matrix $E$. Display it, and then using rotatey() display the actual rotation between the two cameras (check the extrinsic matrices of the cameras to determine the true rotation between them).**"
      ]
    },
    {
      "cell_type": "code",
      "metadata": {
        "id": "iso_a7XhWpgf",
        "outputId": "4fdc0ed3-1a43-4063-e587-be8937abecf4",
        "colab": {
          "base_uri": "https://localhost:8080/"
        }
      },
      "source": [
        "u, s, vh = np.linalg.svd(E)\n",
        "vh[:, 2] *= -1\n",
        "wh = np.array([[0, 1, 0], [-1, 0, 0], [0, 0, 1]])\n",
        "R = u @ wh @ vh\n",
        "\n",
        "print(R)\n",
        "print(rotatey(0.6))\n"
      ],
      "execution_count": 22,
      "outputs": [
        {
          "output_type": "stream",
          "text": [
            "[[ 0.99958348  0.01979416  0.0210015 ]\n",
            " [ 0.01988753  0.05488699 -0.9982945 ]\n",
            " [ 0.02091311 -0.99829635 -0.05447047]]\n",
            "[[ 0.82533561  0.          0.56464247]\n",
            " [ 0.          1.          0.        ]\n",
            " [-0.56464247  0.          0.82533561]]\n"
          ],
          "name": "stdout"
        }
      ]
    },
    {
      "cell_type": "markdown",
      "metadata": {
        "id": "EAPnn8piwh5e"
      },
      "source": [
        "**Are they the same? They should be.**"
      ]
    },
    {
      "cell_type": "markdown",
      "metadata": {
        "id": "2TdPRv1JwkVt"
      },
      "source": [
        "**Now try and recover the translation, and display the result.**"
      ]
    },
    {
      "cell_type": "code",
      "metadata": {
        "id": "ZV3Wt8u_W8Xd",
        "outputId": "d9f05e84-b0f0-49d8-b460-4a6ce6e9fa85",
        "colab": {
          "base_uri": "https://localhost:8080/"
        }
      },
      "source": [
        "skt = u @ wh.T @ np.diag(s) @ u.T\n",
        "t = np.array([-skt[0,1], skt[0,1], -skt[1,2]])\n",
        "print(t)"
      ],
      "execution_count": 24,
      "outputs": [
        {
          "output_type": "stream",
          "text": [
            "[ 0.00116139 -0.00116139  0.99829898]\n"
          ],
          "name": "stdout"
        }
      ]
    },
    {
      "cell_type": "markdown",
      "metadata": {
        "id": "pEKPSXP1wm_3"
      },
      "source": [
        "**Chances are, this will be different from the true translation between the cameras. Why is this so?**"
      ]
    },
    {
      "cell_type": "markdown",
      "metadata": {
        "id": "ppq13DISwtxt"
      },
      "source": [
        "Camera translation using the essential matrix is only defines translation up to direction, not magnitude."
      ]
    },
    {
      "cell_type": "markdown",
      "metadata": {
        "id": "bHR3u8TVwuRi"
      },
      "source": [
        "**Now let's try and plot the epipolar lines. Write a function that given the fundamental matrix and an image pixel coordinate in either the left or the right image, returns the coefficients of the epipolar line in the other image.**"
      ]
    },
    {
      "cell_type": "code",
      "metadata": {
        "id": "vyGAMsKE0pCV"
      },
      "source": [
        "def findEpipolar(F, pix_l=None, pix_r=None):\n",
        "  \"\"\" Computes the epipolar line coefficients given the fundamental matrix F and either\n",
        "      the pixel coordinates in the left image (pix_l) or the pixel coordinates in the \n",
        "      right image (pix_r)\n",
        "      Args:\n",
        "        F: Fundamenal matrix 3x3 that relates pixels in one image to another\n",
        "        pix_l: Pixel coordinate in the left image (shape [3, 1])\n",
        "        pix_r: Pixel coordinate in the right image(shape [1, 3])\n",
        "      Return:\n",
        "        line_coeff: The coefficients of the epipolar line in the other image\n",
        "                    If the equation is au + bv + c = 0, the line_coeff = [a, b, c]\n",
        "  \"\"\"\n",
        "\n",
        "  # If the right pixel coordinate is provided, we want to find the coefficients of\n",
        "  # the line in the left image\n",
        "  if pix_l is None:\n",
        "    line_coeff = F @ pix_r\n",
        "\n",
        "\n",
        "  # If the left pixel coordinate is provided, we want to find the coefficients of \n",
        "  # the line in the right image\n",
        "  elif pix_r is None:\n",
        "    line_coeff = pix_l @ F\n",
        "\n",
        "  else:\n",
        "    line_coeff = None\n",
        "\n",
        "  return line_coeff"
      ],
      "execution_count": 44,
      "outputs": []
    },
    {
      "cell_type": "markdown",
      "metadata": {
        "id": "A5QdbDHT5H7j"
      },
      "source": [
        "**Now complete the function below, that given the coefficient of the line and either the $x$ or the $y$ coordinate, finds the other one.**"
      ]
    },
    {
      "cell_type": "code",
      "metadata": {
        "id": "nVRqfmVD5gVl"
      },
      "source": [
        "def findOther(line_coeff, u=None, v=None):\n",
        "  \"\"\" Given the coefficients of au + bv + c = 0 in the form [a, b, c], compute either\n",
        "      u if v is given, or v if u is given.\n",
        "      Args:\n",
        "        line_coeff: [a, b, c] vector of the coefficients of the equation above\n",
        "        u: The x coordinate of the pixel\n",
        "        v: The y coordinate of the pixel\n",
        "      Return:\n",
        "        The other pixel coordinate, None if nothing else is provided\n",
        "  \"\"\"\n",
        "  a = line_coeff[0]\n",
        "  b = line_coeff[1]\n",
        "  c = line_coeff[2]\n",
        "\n",
        "  if u is None:\n",
        "    r = -(c + b*v) / a\n",
        "\n",
        "  elif v is None:\n",
        "    r = -(c + a*u) / b\n",
        "\n",
        "  return r"
      ],
      "execution_count": 62,
      "outputs": []
    },
    {
      "cell_type": "markdown",
      "metadata": {
        "id": "8o_RT0G3-X6L"
      },
      "source": [
        "**Now, using the two functions above, plot the epipolar lines corresponding to the points from the right image onto the left image. Plot the points in the left image in the same plot. Make sure that the colours match, and each point in the left image should have an epipolar line that passes through them.**"
      ]
    },
    {
      "cell_type": "code",
      "metadata": {
        "id": "4HUhCfJ-y1_a",
        "outputId": "c4be67ee-03a9-4f0b-acdd-54e7921daa12",
        "colab": {
          "base_uri": "https://localhost:8080/",
          "height": 267
        }
      },
      "source": [
        "line_r = findEpipolar(F, pix_pts_l.T, None)\n",
        "\n",
        "x = np.linspace(0, 8000, 1)\n",
        "fig = plt.figure()\n",
        "plt.scatter(pix_pts_r[0], pix_pts_r[1], s=5, c=colors)\n",
        "for line in line_r:\n",
        "  plt.plot(x, findOther(line, x, None))\n",
        "plt.gca().invert_yaxis()"
      ],
      "execution_count": 65,
      "outputs": [
        {
          "output_type": "display_data",
          "data": {
            "image/png": "[encoded data removed]",
            "text/plain": [
              "<Figure size 432x288 with 1 Axes>"
            ]
          },
          "metadata": {
            "tags": [],
            "needs_background": "light"
          }
        }
      ]
    },
    {
      "cell_type": "markdown",
      "metadata": {
        "id": "368RhFpM_Clo"
      },
      "source": [
        "**Now do the same thing, plotting the epipolar lines corresponding to left image points onto the right image.**"
      ]
    },
    {
      "cell_type": "code",
      "metadata": {
        "id": "MCXuCpLI-wpU",
        "outputId": "84b24aaa-b7c0-44b7-be8a-ddd5c5c487ea",
        "colab": {
          "base_uri": "https://localhost:8080/",
          "height": 265
        }
      },
      "source": [
        "line_l = findEpipolar(F, None, pix_pts_r).T\n",
        "\n",
        "x = np.linspace(0, 8000, 1)\n",
        "fig = plt.figure()\n",
        "plt.scatter(pix_pts_l[0], pix_pts_l[1], s=5, c=colors)\n",
        "for line in line_l:\n",
        "  plt.plot(x, findOther(line, x, None), c=colors[i])\n",
        "plt.gca().invert_yaxis()"
      ],
      "execution_count": 66,
      "outputs": [
        {
          "output_type": "display_data",
          "data": {
            "image/png": "[encoded data removed]",
            "text/plain": [
              "<Figure size 432x288 with 1 Axes>"
            ]
          },
          "metadata": {
            "tags": [],
            "needs_background": "light"
          }
        }
      ]
    },
    {
      "cell_type": "markdown",
      "metadata": {
        "id": "Izm_huEy_Mgz"
      },
      "source": [
        "**Now, change the extrinsics of the right camera to include another rotation in either x or z in addition to the y rotation, find the geometry between the left camera and this new right camera, and plot the epipolar lines.**"
      ]
    },
    {
      "cell_type": "code",
      "metadata": {
        "id": "oGGtogVBzZYg"
      },
      "source": [
        ""
      ],
      "execution_count": null,
      "outputs": []
    }
  ]
}