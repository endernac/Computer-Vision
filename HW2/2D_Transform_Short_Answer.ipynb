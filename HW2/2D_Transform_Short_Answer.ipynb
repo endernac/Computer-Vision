{
  "nbformat": 4,
  "nbformat_minor": 0,
  "metadata": {
    "colab": {
      "name": "2D_Transform_Short_Answer.ipynb",
      "provenance": [],
      "toc_visible": true
    },
    "kernelspec": {
      "name": "python3",
      "display_name": "Python 3"
    }
  },
  "cells": [
    {
      "cell_type": "code",
      "metadata": {
        "id": "huYvTMvkAkZ_"
      },
      "source": [
        "import numpy as np\n",
        "import cv2\n",
        "import scipy"
      ],
      "execution_count": 1,
      "outputs": []
    },
    {
      "cell_type": "markdown",
      "metadata": {
        "id": "-MTFZMczEI5v"
      },
      "source": [
        "### 1)"
      ]
    },
    {
      "cell_type": "code",
      "metadata": {
        "id": "F4MOB_xRBIwW"
      },
      "source": [
        "source = np.load(\"./short_questions/1a.npy\").astype(np.float32)\n",
        "target = np.load(\"./short_questions/1b.npy\").astype(np.float32)\n",
        "\n",
        "source = source / np.reshape(source[:,2], (10,1))\n",
        "target = target / np.reshape(target[:,2], (10,1))\n",
        "\n",
        "# print(source)\n",
        "# print(target)"
      ],
      "execution_count": 2,
      "outputs": []
    },
    {
      "cell_type": "code",
      "metadata": {
        "id": "8-RPNSqcBdZi",
        "outputId": "fd0a5fe2-7cdf-4615-f519-f17ca844993f",
        "colab": {
          "base_uri": "https://localhost:8080/",
          "height": 124
        }
      },
      "source": [
        "A = np.zeros((20, 6))\n",
        "b = np.zeros((20, 1))\n",
        "\n",
        "j = 0\n",
        "\n",
        "for i in range(10):\n",
        "  s = source[i]\n",
        "  t = target[i]\n",
        "\n",
        "  A[j]   = np.array([s[0], s[1], 1, 0, 0, 0])\n",
        "  A[j+1] = np.array([0, 0, 0, s[0], s[1], 1])\n",
        "\n",
        "  b[j]   = t[0]\n",
        "  b[j+1] = t[1]\n",
        "\n",
        "  j += 2\n",
        "\n",
        "t = np.linalg.lstsq(A, b)[0]\n",
        "transform = np.zeros((3, 3))\n",
        "transform[:2] = np.reshape(t, (2,3))\n",
        "transform[2] = np.array([0, 0, 1])\n",
        "\n",
        "print(transform)"
      ],
      "execution_count": 3,
      "outputs": [
        {
          "output_type": "stream",
          "text": [
            "[[1.9999998  2.99999981 7.0000001 ]\n",
            " [1.49999982 0.99999993 8.70000008]\n",
            " [0.         0.         1.        ]]\n"
          ],
          "name": "stdout"
        },
        {
          "output_type": "stream",
          "text": [
            "/usr/local/lib/python3.6/dist-packages/ipykernel_launcher.py:18: FutureWarning: `rcond` parameter will change to the default of machine precision times ``max(M, N)`` where M and N are the input matrix dimensions.\n",
            "To use the future default and silence this warning we advise to pass `rcond=None`, to keep using the old, explicitly pass `rcond=-1`.\n"
          ],
          "name": "stderr"
        }
      ]
    },
    {
      "cell_type": "markdown",
      "metadata": {
        "id": "HGmncCoBI3Fc"
      },
      "source": [
        "### 2)"
      ]
    },
    {
      "cell_type": "code",
      "metadata": {
        "id": "sU34QHRJI4pn"
      },
      "source": [
        "source = np.load(\"./short_questions/2a.npy\").astype(np.float32)\n",
        "target = np.load(\"./short_questions/2b.npy\").astype(np.float32)\n",
        "\n",
        "source = source / np.reshape(source[:,2], (10,1))\n",
        "target = target / np.reshape(target[:,2], (10,1))\n",
        "\n",
        "# print(source)\n",
        "# print(target)"
      ],
      "execution_count": 4,
      "outputs": []
    },
    {
      "cell_type": "code",
      "metadata": {
        "id": "j87JG8D57I5h",
        "outputId": "be641978-b162-4ec6-cd41-1de61e155299",
        "colab": {
          "base_uri": "https://localhost:8080/",
          "height": 69
        }
      },
      "source": [
        "A = np.zeros((20, 9))\n",
        "\n",
        "j = 0\n",
        "\n",
        "for i in range(10):\n",
        "  s = source[i]\n",
        "  t = target[i]\n",
        "  A[j]   = np.array([s[0], s[1], 1, 0, 0, 0, -t[0] * s[0], -t[0] * s[1], -t[0]])\n",
        "  A[j+1] = np.array([0, 0, 0, s[0], s[1], 1, -t[1] * s[0], -t[1] * s[1], -t[1]])\n",
        "  j += 2\n",
        "\n",
        "\n",
        "eigenValues, eigenVectors = np.linalg.eig(A.T @ A)\n",
        "\n",
        "idx = eigenValues.argsort()  \n",
        "eigenValues = eigenValues[idx]\n",
        "eigenVectors = eigenVectors[:,idx]\n",
        "\n",
        "v = eigenVectors[:, 0]\n",
        "v = v.reshape((3,3))\n",
        "v /= v[2,2]\n",
        "\n",
        "print(v)"
      ],
      "execution_count": 11,
      "outputs": [
        {
          "output_type": "stream",
          "text": [
            "[[ -5.34103206   2.90240039   6.72625209]\n",
            " [-13.24281031   1.7102528   11.05260512]\n",
            " [ -0.87295407  -0.1056948    1.        ]]\n"
          ],
          "name": "stdout"
        }
      ]
    },
    {
      "cell_type": "markdown",
      "metadata": {
        "id": "rCD8zld42nv4"
      },
      "source": [
        "### 3)"
      ]
    },
    {
      "cell_type": "code",
      "metadata": {
        "id": "ps-NCyqm2pkt"
      },
      "source": [
        "source = np.load(\"./short_questions/3a.npy\").astype(np.float32)\n",
        "target = np.load(\"./short_questions/3b.npy\").astype(np.float32)\n",
        "\n",
        "source = source / np.reshape(source[:,2], (15,1))\n",
        "target = target / np.reshape(target[:,2], (15,1))\n",
        "\n",
        "# print(source)\n",
        "# print(target)"
      ],
      "execution_count": 6,
      "outputs": []
    },
    {
      "cell_type": "code",
      "metadata": {
        "id": "D7PYAQTnTVpP"
      },
      "source": [
        "def get_homography(pts1, pts2):\n",
        "  pts1 = pts1.astype(np.float32)\n",
        "  pts2 = pts2.astype(np.float32)\n",
        "\n",
        "  num_pts = pts1.shape[0]\n",
        "  A = np.zeros((num_pts * 2, 9))\n",
        "  j = 0\n",
        "\n",
        "  for i in range(num_pts):\n",
        "    s = pts1[i]\n",
        "    t = pts2[i]\n",
        "    A[j]   = np.array([s[0], s[1], 1, 0, 0, 0, -t[0] * s[0], -t[0] * s[1], -t[0]])\n",
        "    A[j+1] = np.array([0, 0, 0, s[0], s[1], 1, -t[1] * s[0], -t[1] * s[1], -t[1]])\n",
        "    j += 2\n",
        "\n",
        "  eigenValues, eigenVectors = np.linalg.eig(A.T @ A)\n",
        "\n",
        "  idx = eigenValues.argsort()  \n",
        "  eigenValues = eigenValues[idx]\n",
        "  eigenVectors = eigenVectors[:,idx]\n",
        "\n",
        "  v = eigenVectors[:, 0]\n",
        "  v = v.reshape((3,3))\n",
        "  v = v / v[2,2]\n",
        "\n",
        "  return v\n",
        "\n",
        "\n",
        "\n",
        "def get_best_tranform(source, target):\n",
        "  # Some parameters\n",
        "  num_samples = 4\n",
        "  num_trials = 500\n",
        "  total_matches = 15\n",
        "  inlier_thresh = 1\n",
        "\n",
        "  # To keep track of the best transformation\n",
        "  xform = np.zeros((3, 3))\n",
        "  most_inliers = 0\n",
        "\n",
        "  # Loop through num_trials times\n",
        "  for i in range(num_trials):\n",
        "\n",
        "    # Randomly choose num_samples indices from total number of matches\n",
        "    choices = np.random.choice(total_matches, num_samples, replace=False)\n",
        "\n",
        "    # Get the matching keypoint coordinates from those indices\n",
        "    pts1 = source[choices].astype(np.float32)\n",
        "    pts2 = target[choices].astype(np.float32)\n",
        "\n",
        "    # Get the transformation matrix of the homography\n",
        "    transformation = get_homography(pts1, pts2)\n",
        "\n",
        "    num_inliers = 0\n",
        "\n",
        "    # Loop through all of our matches\n",
        "    for j in range(total_matches):\n",
        "\n",
        "      # Get the coordinates of the matching features using get_keypoint_coord_from_match\n",
        "      p1 = source[j]\n",
        "      p2 = target[j]\n",
        "\n",
        "      # Compute the expected coordinate after transforming the keypoint from img1\n",
        "      # using the computed affine transformation\n",
        "      expect = transformation @ np.float32([p1[0], p1[1], 1])\n",
        "\n",
        "      # If the distance between the expected coordinate and the actual coordinate in im2\n",
        "      # is less than the inlier threshold, increment the number of inliers\n",
        "      dist = np.sqrt((expect[0] - p2[0])**2 + (expect[1] - p2[1])**2)\n",
        "      if dist < inlier_thresh:\n",
        "        num_inliers = num_inliers + 1\n",
        "\n",
        "\n",
        "    # If for this transformation we have found the most inliers update most_inliers and xform\n",
        "    if num_inliers > most_inliers:\n",
        "      most_inliers = num_inliers\n",
        "      xform = np.copy(transformation)\n",
        "  \n",
        "  return xform"
      ],
      "execution_count": 7,
      "outputs": []
    },
    {
      "cell_type": "code",
      "metadata": {
        "id": "xj4H0xHCTNkv",
        "outputId": "accf30ba-96cc-46a6-8de0-4de0c664aee7",
        "colab": {
          "base_uri": "https://localhost:8080/",
          "height": 69
        }
      },
      "source": [
        "transform = get_best_tranform(source, target)\n",
        "print(transform)"
      ],
      "execution_count": 8,
      "outputs": [
        {
          "output_type": "stream",
          "text": [
            "[[2.00000011e+00 6.00000044e+00 6.00000029e+00]\n",
            " [4.00000015e+00 5.00000002e+00 3.00000006e+00]\n",
            " [1.49703243e-08 7.07211657e-10 1.00000000e+00]]\n"
          ],
          "name": "stdout"
        }
      ]
    },
    {
      "cell_type": "markdown",
      "metadata": {
        "id": "y6qRp6EO6Me-"
      },
      "source": [
        "### 4)"
      ]
    },
    {
      "cell_type": "code",
      "metadata": {
        "id": "NVWYGUyH48wn",
        "outputId": "c06e1964-2af1-4edc-84a6-29a210aba03d",
        "colab": {
          "base_uri": "https://localhost:8080/",
          "height": 52
        }
      },
      "source": [
        "grads = np.load(\"./short_questions/gradients.npy\")\n",
        "mags = np.sqrt(grads[:,0]**2 + grads[:,1]**2)\n",
        "angs = np.arctan2(grads[:,1], grads[:,0])\n",
        "angs[angs<0] += 2 * np.pi\n",
        "\n",
        "hist, _ = np.histogram(angs, 10, weights=mags)\n",
        "print(hist)"
      ],
      "execution_count": 9,
      "outputs": [
        {
          "output_type": "stream",
          "text": [
            "[ 9.14053171  5.39536657  4.13864855 13.50065006  8.05100898  3.12836609\n",
            "  1.86109347  1.68195599 12.44989872 11.57830046]\n"
          ],
          "name": "stdout"
        }
      ]
    },
    {
      "cell_type": "markdown",
      "metadata": {
        "id": "Ev0MS60eF_ho"
      },
      "source": [
        "### 5)"
      ]
    },
    {
      "cell_type": "code",
      "metadata": {
        "id": "eNoDneBi6aoK",
        "outputId": "5131ce5c-523f-489b-f4fc-c0ead1076ccc",
        "colab": {
          "base_uri": "https://localhost:8080/",
          "height": 156
        }
      },
      "source": [
        "import matplotlib.pyplot as plt\n",
        "\n",
        "img1 = cv2.imread(\"./data/bikes1.png\")\n",
        "img2 = cv2.imread(\"./data/graf1.png\")\n",
        "img3 = cv2.imread(\"./data/leuven1.png\")\n",
        "img4 = cv2.imread(\"./data/wall1.png\")\n",
        "\n",
        "gray1 = cv2.cvtColor(img1, cv2.COLOR_BGR2GRAY).astype('float32')\n",
        "gray2 = cv2.cvtColor(img2, cv2.COLOR_BGR2GRAY).astype('float32')\n",
        "gray3 = cv2.cvtColor(img3, cv2.COLOR_BGR2GRAY).astype('float32')\n",
        "gray4 = cv2.cvtColor(img4, cv2.COLOR_BGR2GRAY).astype('float32')\n",
        "\n",
        "\n",
        "imgs = [gray1, gray2, gray3, gray4]\n",
        "hists = []\n",
        "\n",
        "for i in imgs:\n",
        "  Gx,Gy = np.gradient(i)\n",
        "\n",
        "  mags = np.sqrt(Gx**2 + Gy**2).astype(np.float32)\n",
        "\n",
        "  angs = np.arctan2(Gy, Gx)\n",
        "  angs[angs<0] += 2 * np.pi\n",
        "\n",
        "  hist, _ = np.histogram(angs, 10, weights=mags)\n",
        "  hists.append(hist)\n",
        "  \n",
        "\n",
        "j = 0\n",
        "for h in hists:\n",
        "  print(\"Image \", j, h)\n",
        "  j = j+1"
      ],
      "execution_count": 10,
      "outputs": [
        {
          "output_type": "stream",
          "text": [
            "Image  0 [811916.44 380523.72 598272.3  332306.56 411495.1  766878.44 383158.34\n",
            " 618075.7  326856.78 464770.25]\n",
            "Image  1 [207928.5  247302.3  171725.44 237208.88 189970.27 214890.53 248541.03\n",
            " 173782.31 237119.4  194507.16]\n",
            "Image  2 [830519.75 440489.97 603673.9  346149.22 477970.3  902450.44 425198.06\n",
            " 575750.6  336104.44 457988.6 ]\n",
            "Image  3 [1053983.5   681122.6   981762.75 1374315.9  1454261.5   999179.3\n",
            "  714946.6  1048856.   1300525.6  1472427.8 ]\n"
          ],
          "name": "stdout"
        }
      ]
    }
  ]
}