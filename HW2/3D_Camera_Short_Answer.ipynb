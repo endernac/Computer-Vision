{
  "nbformat": 4,
  "nbformat_minor": 0,
  "metadata": {
    "colab": {
      "name": "3D_Camera_Short_Answer.ipynb",
      "provenance": []
    },
    "kernelspec": {
      "name": "python3",
      "display_name": "Python 3"
    }
  },
  "cells": [
    {
      "cell_type": "code",
      "metadata": {
        "id": "S6aVixMQ63NW"
      },
      "source": [
        "import numpy as np"
      ],
      "execution_count": null,
      "outputs": []
    },
    {
      "cell_type": "markdown",
      "metadata": {
        "id": "sfBDWAGP1y7C"
      },
      "source": [
        "### 1)"
      ]
    },
    {
      "cell_type": "code",
      "metadata": {
        "id": "2Ya5eetGzfpv",
        "outputId": "1b6b2c2e-825d-4825-b9df-f41caf2e56bb",
        "colab": {
          "base_uri": "https://localhost:8080/",
          "height": 86
        }
      },
      "source": [
        "l1 = np.array([0, 0, 1000])\n",
        "l2 = np.array([100, 0, 1000])\n",
        "l3 = np.array([150, 150, 2000]) \n",
        "l4 = np.array([300, 300, 4000])\n",
        "\n",
        "def get_metric_projection(l):\n",
        "  x, y, z = l[0], l[1], l[2]\n",
        "  f = 50\n",
        "  return np.array([f*x/z, f*y/z])\n",
        "\n",
        "p1 = get_metric_projection(l1)\n",
        "p2 = get_metric_projection(l2)\n",
        "p3 = get_metric_projection(l3)\n",
        "p4 = get_metric_projection(l4)\n",
        "\n",
        "print(p1)\n",
        "print(p2)\n",
        "print(p3)\n",
        "print(p4)"
      ],
      "execution_count": null,
      "outputs": [
        {
          "output_type": "stream",
          "text": [
            "[0. 0.]\n",
            "[5. 0.]\n",
            "[3.75 3.75]\n",
            "[3.75 3.75]\n"
          ],
          "name": "stdout"
        }
      ]
    },
    {
      "cell_type": "code",
      "metadata": {
        "id": "VAu6T5gd13we",
        "outputId": "787388aa-b09e-4461-e709-f4f4f3733aaa",
        "colab": {
          "base_uri": "https://localhost:8080/",
          "height": 86
        }
      },
      "source": [
        "def metric2pix(p):\n",
        "  x_i, y_i = p[0], p[1]\n",
        "  m = 1 / 0.005\n",
        "  o_x = 500\n",
        "  o_y = 500\n",
        "  return np.array([int(m*x_i + o_x), int(m*y_i + o_y)])\n",
        "\n",
        "\n",
        "pix1 = metric2pix(p1)\n",
        "pix2 = metric2pix(p2)\n",
        "pix3 = metric2pix(p3)\n",
        "pix4 = metric2pix(p4)\n",
        "\n",
        "\n",
        "print(pix1)\n",
        "print(pix2)\n",
        "print(pix3)\n",
        "print(pix4)"
      ],
      "execution_count": null,
      "outputs": [
        {
          "output_type": "stream",
          "text": [
            "[500 500]\n",
            "[1500  500]\n",
            "[1250 1250]\n",
            "[1250 1250]\n"
          ],
          "name": "stdout"
        }
      ]
    },
    {
      "cell_type": "markdown",
      "metadata": {
        "id": "prPSGwae4GH8"
      },
      "source": [
        "### 3)"
      ]
    },
    {
      "cell_type": "code",
      "metadata": {
        "id": "KbaBB-D72MEF",
        "outputId": "8db041ca-7667-4218-b16f-705e4952bb18",
        "colab": {
          "base_uri": "https://localhost:8080/",
          "height": 173
        }
      },
      "source": [
        "t = np.array([100, 0, 0])\n",
        "\n",
        "p1 = get_metric_projection(l1 + t)\n",
        "p2 = get_metric_projection(l2 + t)\n",
        "p3 = get_metric_projection(l3 + t)\n",
        "p4 = get_metric_projection(l4 + t)\n",
        "\n",
        "print(p1)\n",
        "print(p2)\n",
        "print(p3)\n",
        "print(p4)\n",
        "print()\n",
        "\n",
        "pix1 = metric2pix(p1)\n",
        "pix2 = metric2pix(p2)\n",
        "pix3 = metric2pix(p3)\n",
        "pix4 = metric2pix(p4)\n",
        "\n",
        "print(pix1)\n",
        "print(pix2)\n",
        "print(pix3)\n",
        "print(pix4)"
      ],
      "execution_count": null,
      "outputs": [
        {
          "output_type": "stream",
          "text": [
            "[5. 0.]\n",
            "[10.  0.]\n",
            "[6.25 3.75]\n",
            "[5.   3.75]\n",
            "\n",
            "[1500  500]\n",
            "[2500  500]\n",
            "[1750 1250]\n",
            "[1500 1250]\n"
          ],
          "name": "stdout"
        }
      ]
    },
    {
      "cell_type": "markdown",
      "metadata": {
        "id": "al11WO3U6V-u"
      },
      "source": [
        "### 4)"
      ]
    },
    {
      "cell_type": "code",
      "metadata": {
        "id": "UxEVAHG56Xej",
        "outputId": "9e794d8c-a07f-4a72-b892-12e31995c8cc",
        "colab": {
          "base_uri": "https://localhost:8080/",
          "height": 173
        }
      },
      "source": [
        "ang = 5 * np.pi / 180\n",
        "R = np.array([[np.cos(ang), -np.sin(ang), 0], [np.sin(ang), np.cos(ang), 0], [0, 0, 1]])\n",
        "t = np.array([100, 0, 0])\n",
        "\n",
        "p1 = get_metric_projection((R @ l1) + t)\n",
        "p2 = get_metric_projection((R @ l2) + t)\n",
        "p3 = get_metric_projection((R @ l3) + t)\n",
        "p4 = get_metric_projection((R @ l4) + t)\n",
        "\n",
        "print(p1)\n",
        "print(p2)\n",
        "print(p3)\n",
        "print(p4)\n",
        "print()\n",
        "\n",
        "pix1 = metric2pix(p1)\n",
        "pix2 = metric2pix(p2)\n",
        "pix3 = metric2pix(p3)\n",
        "pix4 = metric2pix(p4)\n",
        "\n",
        "print(pix1)\n",
        "print(pix2)\n",
        "print(pix3)\n",
        "print(pix4)"
      ],
      "execution_count": null,
      "outputs": [
        {
          "output_type": "stream",
          "text": [
            "[5. 0.]\n",
            "[9.98097349 0.43577871]\n",
            "[5.90889608 4.06256415]\n",
            "[4.65889608 4.06256415]\n",
            "\n",
            "[1500  500]\n",
            "[2496  587]\n",
            "[1681 1312]\n",
            "[1431 1312]\n"
          ],
          "name": "stdout"
        }
      ]
    },
    {
      "cell_type": "markdown",
      "metadata": {
        "id": "xnx76h0h6YD8"
      },
      "source": [
        "### 5)"
      ]
    },
    {
      "cell_type": "code",
      "metadata": {
        "id": "0HEMBwn86Znu",
        "outputId": "ff90e7fb-8f78-45b0-88b0-c43008005011",
        "colab": {
          "base_uri": "https://localhost:8080/",
          "height": 173
        }
      },
      "source": [
        "p1 = get_metric_projection(R @ (l1 + t))\n",
        "p2 = get_metric_projection(R @ (l2 + t))\n",
        "p3 = get_metric_projection(R @ (l3 + t))\n",
        "p4 = get_metric_projection(R @ (l4 + t))\n",
        "\n",
        "print(p1)\n",
        "print(p2)\n",
        "print(p3)\n",
        "print(p4)\n",
        "print()\n",
        "\n",
        "pix1 = metric2pix(p1)\n",
        "pix2 = metric2pix(p2)\n",
        "pix3 = metric2pix(p3)\n",
        "pix4 = metric2pix(p4)\n",
        "\n",
        "print(pix1)\n",
        "print(pix2)\n",
        "print(pix3)\n",
        "print(pix4)"
      ],
      "execution_count": null,
      "outputs": [
        {
          "output_type": "stream",
          "text": [
            "[4.98097349 0.43577871]\n",
            "[9.96194698 0.87155743]\n",
            "[5.89938283 4.28045351]\n",
            "[4.65413946 4.17150883]\n",
            "\n",
            "[1496  587]\n",
            "[2492  674]\n",
            "[1679 1356]\n",
            "[1430 1334]\n"
          ],
          "name": "stdout"
        }
      ]
    }
  ]
}