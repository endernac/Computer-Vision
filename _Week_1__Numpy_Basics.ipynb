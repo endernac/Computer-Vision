{
  "nbformat": 4,
  "nbformat_minor": 0,
  "metadata": {
    "celltoolbar": "Raw Cell Format",
    "colab": {
      "name": "(Week 1) Numpy Basics.ipynb",
      "provenance": [],
      "collapsed_sections": []
    },
    "kernelspec": {
      "display_name": "Python 3",
      "language": "python",
      "name": "python3"
    },
    "language_info": {
      "codemirror_mode": {
        "name": "ipython",
        "version": 3
      },
      "file_extension": ".py",
      "mimetype": "text/x-python",
      "name": "python",
      "nbconvert_exporter": "python",
      "pygments_lexer": "ipython3",
      "version": "3.7.3"
    }
  },
  "cells": [
    {
      "cell_type": "code",
      "metadata": {
        "colab_type": "code",
        "id": "WeG6mrwNSW6w",
        "colab": {}
      },
      "source": [
        "%matplotlib inline\n",
        "import matplotlib.pyplot as plt\n",
        "import numpy as np"
      ],
      "execution_count": 1,
      "outputs": []
    },
    {
      "cell_type": "markdown",
      "metadata": {
        "colab_type": "text",
        "id": "Z0xVykeNrkue"
      },
      "source": [
        "### Read this First\n",
        "\n",
        "#### Remember that `tab` is is useful for autocompletion.\n",
        "\n",
        "#### Remember that `shift + tab` is useful for rapidly obtaining usage + documentation.\n"
      ]
    },
    {
      "cell_type": "markdown",
      "metadata": {
        "colab_type": "text",
        "id": "zURPVVsErkug"
      },
      "source": [
        "### Basic Shapes and Types in NumPy"
      ]
    },
    {
      "cell_type": "markdown",
      "metadata": {
        "colab_type": "text",
        "id": "uWWZ5TgUrkug"
      },
      "source": [
        "**Create a 1-D array of 5 zeros named `array_of_zeros`. Print it, verify that its shape is `[5]`, and print its `dtype`.**"
      ]
    },
    {
      "cell_type": "code",
      "metadata": {
        "colab_type": "code",
        "id": "aM7fRX1vSLwo",
        "colab": {
          "base_uri": "https://localhost:8080/",
          "height": 69
        },
        "outputId": "b865c4ee-9cf0-4eeb-f282-063fb1c37315"
      },
      "source": [
        "array_of_zeros = np.zeros(5)\n",
        "print(array_of_zeros)\n",
        "print(\"Array shape: \", array_of_zeros.shape)\n",
        "print(\"Array data type: \", array_of_zeros.dtype)"
      ],
      "execution_count": 2,
      "outputs": [
        {
          "output_type": "stream",
          "text": [
            "[0. 0. 0. 0. 0.]\n",
            "Array shape:  (5,)\n",
            "Array data type:  float64\n"
          ],
          "name": "stdout"
        }
      ]
    },
    {
      "cell_type": "markdown",
      "metadata": {
        "colab_type": "text",
        "id": "0g9Y0ZPkrkuj"
      },
      "source": [
        "**Print the transpose of `array_of_zeros`.**"
      ]
    },
    {
      "cell_type": "code",
      "metadata": {
        "colab_type": "code",
        "id": "dxmWaL7grkul",
        "colab": {
          "base_uri": "https://localhost:8080/",
          "height": 34
        },
        "outputId": "25486bf9-102a-4544-ba93-ae99939f0a8f"
      },
      "source": [
        "print(array_of_zeros.T)"
      ],
      "execution_count": 3,
      "outputs": [
        {
          "output_type": "stream",
          "text": [
            "[0. 0. 0. 0. 0.]\n"
          ],
          "name": "stdout"
        }
      ]
    },
    {
      "cell_type": "markdown",
      "metadata": {
        "colab_type": "text",
        "id": "ohPucNsqrkum"
      },
      "source": [
        "**In the following Markdown Cell, answer:**\n",
        "\n",
        "**Is its transpose what you expected? Why or why not?**"
      ]
    },
    {
      "cell_type": "markdown",
      "metadata": {
        "colab_type": "text",
        "id": "MM2R_F9Nrkun"
      },
      "source": [
        "The transpose is what I expected. In math, the transpose is supposed to be a vector/ matrix/ tensor that has its rows and columns flipped. However, in numpy, normal 1D arrays are represented by a series of entries without rows or columns, so the transpose cannot flip them. If we wanted the regular math definition of the transpose, we could add a new axis."
      ]
    },
    {
      "cell_type": "markdown",
      "metadata": {
        "colab_type": "text",
        "id": "vebIa0zKrkuo"
      },
      "source": [
        "**Create a 2-D array of 5 zeros, named `array_of_zeros`, with shape `[1, 5]`. Print it, and print its shape.**"
      ]
    },
    {
      "cell_type": "code",
      "metadata": {
        "colab_type": "code",
        "id": "Qe6JkZhgSLmH",
        "colab": {
          "base_uri": "https://localhost:8080/",
          "height": 52
        },
        "outputId": "275e5a2a-5d6c-4c4a-b6c3-4b1c92226cbb"
      },
      "source": [
        "array_of_zeros = array_of_zeros[np.newaxis,:]\n",
        "print(array_of_zeros)\n",
        "print(\"Array shape: \", array_of_zeros.shape)"
      ],
      "execution_count": 4,
      "outputs": [
        {
          "output_type": "stream",
          "text": [
            "[[0. 0. 0. 0. 0.]]\n",
            "Array shape:  (1, 5)\n"
          ],
          "name": "stdout"
        }
      ]
    },
    {
      "cell_type": "markdown",
      "metadata": {
        "colab_type": "text",
        "id": "qsszc4-Krkus"
      },
      "source": [
        "**Print the transpose of `array_of_zeros`.**"
      ]
    },
    {
      "cell_type": "code",
      "metadata": {
        "colab_type": "code",
        "id": "e4MI4IRarkut",
        "colab": {
          "base_uri": "https://localhost:8080/",
          "height": 104
        },
        "outputId": "dd4ea897-336b-4bc3-e28d-b513e18719aa"
      },
      "source": [
        "print(array_of_zeros.T)"
      ],
      "execution_count": 5,
      "outputs": [
        {
          "output_type": "stream",
          "text": [
            "[[0.]\n",
            " [0.]\n",
            " [0.]\n",
            " [0.]\n",
            " [0.]]\n"
          ],
          "name": "stdout"
        }
      ]
    },
    {
      "cell_type": "markdown",
      "metadata": {
        "colab_type": "text",
        "id": "vn495PUSrkuw"
      },
      "source": [
        "**In the following Markdown Cell, answer:**\n",
        "\n",
        "**Is its transpose what you expected? Why or why not?**"
      ]
    },
    {
      "cell_type": "markdown",
      "metadata": {
        "colab_type": "text",
        "id": "uegg6GGArkux"
      },
      "source": [
        "This is what I expected, since another dimension was added, we can now take the transpose (flip the rows and columns)."
      ]
    },
    {
      "cell_type": "markdown",
      "metadata": {
        "colab_type": "text",
        "id": "SIxnesb8rkux"
      },
      "source": [
        "**Create a 1-D array of 5 zeros, named `array_of_zeros`, with a `dtype` of `np.float`. Print it, and its `dtype`.**"
      ]
    },
    {
      "cell_type": "code",
      "metadata": {
        "colab_type": "code",
        "id": "Za0uUeDbrku1",
        "colab": {
          "base_uri": "https://localhost:8080/",
          "height": 52
        },
        "outputId": "4fcf0f4c-5e53-4c78-a206-0cfef5b88a5a"
      },
      "source": [
        "array_of_zeros = np.zeros(5, dtype=np.float)\n",
        "print(array_of_zeros)\n",
        "print(\"Array data type: \", array_of_zeros.dtype)"
      ],
      "execution_count": 6,
      "outputs": [
        {
          "output_type": "stream",
          "text": [
            "[0. 0. 0. 0. 0.]\n",
            "Array data type:  float64\n"
          ],
          "name": "stdout"
        }
      ]
    },
    {
      "cell_type": "markdown",
      "metadata": {
        "colab_type": "text",
        "id": "r9_0subQrku4"
      },
      "source": [
        "**In the following Markdown Cell, answer:**\n",
        "\n",
        "**Does this array contain floats with 32 bit precision or 64 bit precision?**"
      ]
    },
    {
      "cell_type": "markdown",
      "metadata": {
        "id": "lJYVgNdmA76F",
        "colab_type": "text"
      },
      "source": [
        "It contains 64 bit precision."
      ]
    },
    {
      "cell_type": "markdown",
      "metadata": {
        "colab_type": "text",
        "id": "OLqNDu0rrku5"
      },
      "source": [
        "**Create a 1-D array of 5 zeros, named `array_of_zeros`, with a `dtype` of `np.int`. Print it, and its `dtype`.**"
      ]
    },
    {
      "cell_type": "code",
      "metadata": {
        "colab_type": "code",
        "id": "G5HGN-bbrku6",
        "colab": {
          "base_uri": "https://localhost:8080/",
          "height": 52
        },
        "outputId": "b3ded847-c4b3-4392-cc4b-917e6f942d29"
      },
      "source": [
        "array_of_zeros = np.zeros(5, dtype=np.int)\n",
        "print(array_of_zeros)\n",
        "print(\"Array data type: \", array_of_zeros.dtype)"
      ],
      "execution_count": 7,
      "outputs": [
        {
          "output_type": "stream",
          "text": [
            "[0 0 0 0 0]\n",
            "Array data type:  int64\n"
          ],
          "name": "stdout"
        }
      ]
    },
    {
      "cell_type": "markdown",
      "metadata": {
        "colab_type": "text",
        "id": "1cfcoR4lrku9"
      },
      "source": [
        "**In the following Markdown Cell, answer:**\n",
        "\n",
        "**Does this array contain 32-bit integers or 64-bit integers?**"
      ]
    },
    {
      "cell_type": "markdown",
      "metadata": {
        "id": "RWMrNWH5BHtN",
        "colab_type": "text"
      },
      "source": [
        "It contains 64 bit integers."
      ]
    },
    {
      "cell_type": "markdown",
      "metadata": {
        "colab_type": "text",
        "id": "I5VdB_3wrkvB"
      },
      "source": [
        "When dealing with GPUs, we will often want to use 32 bit precision.\n",
        "\n",
        "**Create a 1-D array of 5 zeros, named `array_of_zeros`, with a `dtype` of `np.float32`. Print it, and its `dtype`.**"
      ]
    },
    {
      "cell_type": "code",
      "metadata": {
        "colab_type": "code",
        "id": "TmPhH5rLrkvF",
        "colab": {
          "base_uri": "https://localhost:8080/",
          "height": 52
        },
        "outputId": "49329a17-fe7b-4735-eaa4-3280dcc4af6e"
      },
      "source": [
        "array_of_zeros = np.zeros(5, dtype=np.float32)\n",
        "print(array_of_zeros)\n",
        "print(\"Array data type: \", array_of_zeros.dtype)"
      ],
      "execution_count": 8,
      "outputs": [
        {
          "output_type": "stream",
          "text": [
            "[0. 0. 0. 0. 0.]\n",
            "Array data type:  float32\n"
          ],
          "name": "stdout"
        }
      ]
    },
    {
      "cell_type": "markdown",
      "metadata": {
        "colab_type": "text",
        "id": "VXzxLqGJrkvL"
      },
      "source": [
        "**Create a 1-D array of 5 zeros, named `array_of_zeros`, with a `dtype` of `np.float`, and then create `array_of_zeros_32` by casting `array_of_zeros`. Print it, and its `dtype`.**"
      ]
    },
    {
      "cell_type": "code",
      "metadata": {
        "colab_type": "code",
        "id": "QchqNPNrrkvL",
        "colab": {
          "base_uri": "https://localhost:8080/",
          "height": 52
        },
        "outputId": "7f445ccc-7693-4049-ae54-2e24a1f0bb27"
      },
      "source": [
        "array_of_zeros = np.zeros(5, dtype=np.float)\n",
        "array_of_zeros_32 = array_of_zeros.astype(np.float32)\n",
        "\n",
        "print(array_of_zeros_32)\n",
        "print(\"Array data type: \", array_of_zeros_32.dtype)"
      ],
      "execution_count": 9,
      "outputs": [
        {
          "output_type": "stream",
          "text": [
            "[0. 0. 0. 0. 0.]\n",
            "Array data type:  float32\n"
          ],
          "name": "stdout"
        }
      ]
    },
    {
      "cell_type": "markdown",
      "metadata": {
        "colab_type": "text",
        "id": "OxeBB5Q2rkvP"
      },
      "source": [
        "### `np.arange`, Element-Wise Operations, and Reshaping"
      ]
    },
    {
      "cell_type": "markdown",
      "metadata": {
        "colab_type": "text",
        "id": "AruqMurYrkvR"
      },
      "source": [
        "**Create `x1` to be a 1-D array of floats containing `[0, 1, 2, 3, 4]`, but do not type these values explicitly; instead, use `np.arange`. Also create `x2` in the exact same way. Print `x1`, `x2`, and `x1`'s `dtype`. Be sure `x1` and `x2` store floats, not ints.**"
      ]
    },
    {
      "cell_type": "code",
      "metadata": {
        "colab_type": "code",
        "id": "88utEXrqT9dL",
        "colab": {
          "base_uri": "https://localhost:8080/",
          "height": 86
        },
        "outputId": "38223c2b-fe4f-4c98-96df-b6dcf47ec25b"
      },
      "source": [
        "x1 = np.arange(5, dtype=np.float32)\n",
        "x2 = np.arange(5, dtype=np.float32)\n",
        "\n",
        "print(\"x1: \", x1)\n",
        "print(\"x2: \", x2)\n",
        "\n",
        "print(\"x1 data type: \", x1.dtype)\n",
        "print(\"x2 data type: \", x2.dtype)"
      ],
      "execution_count": 10,
      "outputs": [
        {
          "output_type": "stream",
          "text": [
            "x1:  [0. 1. 2. 3. 4.]\n",
            "x2:  [0. 1. 2. 3. 4.]\n",
            "x1 data type:  float32\n",
            "x2 data type:  float32\n"
          ],
          "name": "stdout"
        }
      ]
    },
    {
      "cell_type": "markdown",
      "metadata": {
        "colab_type": "text",
        "id": "FrXS0vpqrkvW"
      },
      "source": [
        "**Create `y` via `y = x1 + x2`. Print `y` and its `dtype`.**"
      ]
    },
    {
      "cell_type": "code",
      "metadata": {
        "colab_type": "code",
        "id": "fj2ZQ8ebrkvW",
        "colab": {
          "base_uri": "https://localhost:8080/",
          "height": 52
        },
        "outputId": "3587ad87-d754-43bb-e129-7f105c60535b"
      },
      "source": [
        "y = x1 + x2\n",
        "print(\"y: \", y)\n",
        "print(\"y data type: \", y.dtype)"
      ],
      "execution_count": 11,
      "outputs": [
        {
          "output_type": "stream",
          "text": [
            "y:  [0. 2. 4. 6. 8.]\n",
            "y data type:  float32\n"
          ],
          "name": "stdout"
        }
      ]
    },
    {
      "cell_type": "markdown",
      "metadata": {
        "colab_type": "text",
        "id": "Ryf58C_zrkvZ"
      },
      "source": [
        "**Reshape `x1` to have shape `[1, 5]` and `x2` to have shape `[5, 1]`. Print their shapes.**"
      ]
    },
    {
      "cell_type": "code",
      "metadata": {
        "colab_type": "code",
        "id": "zNyqD-p8UjTd",
        "colab": {
          "base_uri": "https://localhost:8080/",
          "height": 52
        },
        "outputId": "89819358-394f-43a3-a6b4-b879af2ebff9"
      },
      "source": [
        "x1.reshape(1,5)\n",
        "x2.reshape(5,1)\n",
        "\n",
        "print(\"x1 shape: \", x1.shape)\n",
        "print(\"x2 shape: \", x2.shape)"
      ],
      "execution_count": 12,
      "outputs": [
        {
          "output_type": "stream",
          "text": [
            "x1 shape:  (5,)\n",
            "x2 shape:  (5,)\n"
          ],
          "name": "stdout"
        }
      ]
    },
    {
      "cell_type": "markdown",
      "metadata": {
        "colab_type": "text",
        "id": "9VcUU0eSrkvc"
      },
      "source": [
        "**Form `y` via `y = x1 + x2`. Print `y`.**"
      ]
    },
    {
      "cell_type": "code",
      "metadata": {
        "colab_type": "code",
        "id": "m9dlKPmjUozM",
        "colab": {
          "base_uri": "https://localhost:8080/",
          "height": 34
        },
        "outputId": "d62c73ac-b685-400e-bf6c-a3b478e7a9a4"
      },
      "source": [
        "y = x1 + x2\n",
        "print(y)"
      ],
      "execution_count": 13,
      "outputs": [
        {
          "output_type": "stream",
          "text": [
            "[0. 2. 4. 6. 8.]\n"
          ],
          "name": "stdout"
        }
      ]
    },
    {
      "cell_type": "markdown",
      "metadata": {
        "colab_type": "text",
        "id": "29wzZXR8rkve"
      },
      "source": [
        "**In the following Markdown Cell, answer:**\n",
        "\n",
        "**Is this what you expected? (For now, just a 'Yes' or 'No' is fine; we will revisit this result later.)**"
      ]
    },
    {
      "cell_type": "markdown",
      "metadata": {
        "colab_type": "text",
        "id": "7XQq7FQVrkvf"
      },
      "source": [
        "Yes, the x1 and x2 vectors were broadcast over their dimension of size 5, resulting in a 5 by 5 array."
      ]
    },
    {
      "cell_type": "markdown",
      "metadata": {
        "colab_type": "text",
        "id": "D0rCBl9Trkvf"
      },
      "source": [
        "**Create a 1-D array x containing integers 0, 1, ..., 8 using `np.arange`. Print it, and its `dtype`.**"
      ]
    },
    {
      "cell_type": "code",
      "metadata": {
        "colab_type": "code",
        "id": "E7txqslbVukC",
        "colab": {
          "base_uri": "https://localhost:8080/",
          "height": 52
        },
        "outputId": "c18b3b5f-c9b8-40ec-87f7-9575760b0f78"
      },
      "source": [
        "x = np.arange(9, dtype=np.float32)\n",
        "print(\"x: \", x)\n",
        "print(\"x data type: \", x.dtype)"
      ],
      "execution_count": 14,
      "outputs": [
        {
          "output_type": "stream",
          "text": [
            "x:  [0. 1. 2. 3. 4. 5. 6. 7. 8.]\n",
            "x data type:  float32\n"
          ],
          "name": "stdout"
        }
      ]
    },
    {
      "cell_type": "markdown",
      "metadata": {
        "colab_type": "text",
        "id": "uJjMqcFFrkvl"
      },
      "source": [
        "**Create `X` by reshaping `x` to have shape `[3, 3]`. Print `X`.**"
      ]
    },
    {
      "cell_type": "code",
      "metadata": {
        "colab_type": "code",
        "id": "Z3HL6gtyVxYB",
        "colab": {
          "base_uri": "https://localhost:8080/",
          "height": 69
        },
        "outputId": "1d69b8ce-e346-4ceb-a076-af9275b37660"
      },
      "source": [
        "X = x.reshape(3,3)\n",
        "print(X)"
      ],
      "execution_count": 15,
      "outputs": [
        {
          "output_type": "stream",
          "text": [
            "[[0. 1. 2.]\n",
            " [3. 4. 5.]\n",
            " [6. 7. 8.]]\n"
          ],
          "name": "stdout"
        }
      ]
    },
    {
      "cell_type": "markdown",
      "metadata": {
        "colab_type": "text",
        "id": "l7lkXba9equh"
      },
      "source": [
        "NumPy arrays are typically contiguous strips of memory, with the shape specifying how we view that memory. For example, if the shape of the strip of memory `[0, 1, 2, 3]` is `[2, 2]`, then we view it as a 2 x 2 matrix.\n"
      ]
    },
    {
      "cell_type": "markdown",
      "metadata": {
        "colab_type": "text",
        "id": "I3OsvgE1gXM7"
      },
      "source": [
        "**In the following Markdown Cell, answer:**\n",
        "\n",
        "\n",
        "**Given your previous `reshape` result, and the fact that `reshape` only changes our view of a contiguous strip of memory, do *rows* have elements that are mutually closer in memory, or do *columns* have elements that are mutually closer in memory?**"
      ]
    },
    {
      "cell_type": "markdown",
      "metadata": {
        "colab_type": "text",
        "id": "PHUt3CVRgKfw"
      },
      "source": [
        "Rows have elements that are closer in memory."
      ]
    },
    {
      "cell_type": "markdown",
      "metadata": {
        "colab_type": "text",
        "id": "CiDY8XWUrkwc"
      },
      "source": [
        "### Element-Wise Multiplication vs. Matrix Multiplication"
      ]
    },
    {
      "cell_type": "markdown",
      "metadata": {
        "colab_type": "text",
        "id": "JWjeSndRrkwc"
      },
      "source": [
        "**Create `A` and `B`, each 2-D matrices of ones with shape `[3, 3]`.**"
      ]
    },
    {
      "cell_type": "code",
      "metadata": {
        "colab_type": "code",
        "id": "oBTegRogi5Ii",
        "colab": {}
      },
      "source": [
        "A = np.ones((3,3))\n",
        "B = np.ones((3,3))"
      ],
      "execution_count": 16,
      "outputs": []
    },
    {
      "cell_type": "markdown",
      "metadata": {
        "colab_type": "text",
        "id": "AsbpmRNwrkwe"
      },
      "source": [
        "**Form `C_star` via `C_star = A * B`, and print `C_star`.**"
      ]
    },
    {
      "cell_type": "code",
      "metadata": {
        "colab_type": "code",
        "id": "Bjfa79cFjA1y",
        "colab": {
          "base_uri": "https://localhost:8080/",
          "height": 69
        },
        "outputId": "2adda083-69dc-495f-edb8-da0acb1370ec"
      },
      "source": [
        "C_star = A * B\n",
        "print(C_star)"
      ],
      "execution_count": 17,
      "outputs": [
        {
          "output_type": "stream",
          "text": [
            "[[1. 1. 1.]\n",
            " [1. 1. 1.]\n",
            " [1. 1. 1.]]\n"
          ],
          "name": "stdout"
        }
      ]
    },
    {
      "cell_type": "markdown",
      "metadata": {
        "colab_type": "text",
        "id": "zPKfw5rDrkwg"
      },
      "source": [
        "**Form `C_at` via `C_at = A @ B`, and print `C_at`.**"
      ]
    },
    {
      "cell_type": "code",
      "metadata": {
        "colab_type": "code",
        "id": "jFTC1sAhjEvm",
        "colab": {
          "base_uri": "https://localhost:8080/",
          "height": 69
        },
        "outputId": "33b2be63-a6df-45a0-f8c2-aee5edfc472a"
      },
      "source": [
        "C_at = A @ B\n",
        "print(C_at)"
      ],
      "execution_count": 18,
      "outputs": [
        {
          "output_type": "stream",
          "text": [
            "[[3. 3. 3.]\n",
            " [3. 3. 3.]\n",
            " [3. 3. 3.]]\n"
          ],
          "name": "stdout"
        }
      ]
    },
    {
      "cell_type": "markdown",
      "metadata": {
        "colab_type": "text",
        "id": "CcUUvfGpjHJS"
      },
      "source": [
        "**In the following Markdown Cell, answer:**\n",
        "\n",
        "**What operation does `*` perform? What operation does `@` perform?**"
      ]
    },
    {
      "cell_type": "markdown",
      "metadata": {
        "colab_type": "text",
        "id": "U-AIC_ttjSW1"
      },
      "source": [
        "The * opereraor performs a hadamard matrix multiplication (element wise). The @ operator performs a regular matrix multiplication."
      ]
    },
    {
      "cell_type": "markdown",
      "metadata": {
        "colab_type": "text",
        "id": "_KUflx1prkwk"
      },
      "source": [
        "### Broadcasting"
      ]
    },
    {
      "cell_type": "markdown",
      "metadata": {
        "colab_type": "text",
        "id": "HykGB66dM7MO"
      },
      "source": [
        "Suppose you have some data collected in a 1-D array, which is not 'normalized' in the sense that it has a mean that's far from 0 and a standard deviation that's far from 1:"
      ]
    },
    {
      "cell_type": "code",
      "metadata": {
        "colab_type": "code",
        "id": "Gxqlr64OMc_v",
        "colab": {
          "base_uri": "https://localhost:8080/",
          "height": 52
        },
        "outputId": "391fad8f-d93c-4a7f-812f-ff2abc3e845b"
      },
      "source": [
        "x = np.array([3.2, 1.1, 1.2, 5.3, 3.9, 1.9, 2.0, 6.2, 1.0, 2.2])\n",
        "print(x.mean())\n",
        "print(x.std())"
      ],
      "execution_count": 19,
      "outputs": [
        {
          "output_type": "stream",
          "text": [
            "2.8\n",
            "1.7227884373886422\n"
          ],
          "name": "stdout"
        }
      ]
    },
    {
      "cell_type": "markdown",
      "metadata": {
        "colab_type": "text",
        "id": "p3vPH5ykNFKs"
      },
      "source": [
        "**Form `z` by normalizing `x`. That is, each entry in `z` should be the *standardized score* of the corresponding entry in `x`: $z_i = (x_i - \\mu) / \\sigma$. Print `z` and verify that its mean is close to 0.0 and that its standard deviation is close to 1.0.**"
      ]
    },
    {
      "cell_type": "code",
      "metadata": {
        "colab_type": "code",
        "id": "2UbG0gTrMmio",
        "colab": {
          "base_uri": "https://localhost:8080/",
          "height": 86
        },
        "outputId": "800fa2eb-a91c-4fc2-b10a-c67de529f62a"
      },
      "source": [
        "z = (x - x.mean()) / x.std()\n",
        "print(z)\n",
        "print(z.mean())\n",
        "print(z.std())"
      ],
      "execution_count": 20,
      "outputs": [
        {
          "output_type": "stream",
          "text": [
            "[ 0.23218173 -0.98677235 -0.92872692  1.45113581  0.63849976 -0.52240889\n",
            " -0.46436346  1.97354471 -1.04481779 -0.3482726 ]\n",
            "9.992007221626409e-17\n",
            "1.0000000000000002\n"
          ],
          "name": "stdout"
        }
      ]
    },
    {
      "cell_type": "markdown",
      "metadata": {
        "colab_type": "text",
        "id": "m2hreOdTNc9q"
      },
      "source": [
        "Now suppose that you have 5 3-dimensional feature vectors collected in an array, and that none of the features are normalized, in that each feature has a mean that's far from 0 and a standard deviation that's far from 1:"
      ]
    },
    {
      "cell_type": "code",
      "metadata": {
        "colab_type": "code",
        "id": "C6wrb0_RM3ux",
        "colab": {
          "base_uri": "https://localhost:8080/",
          "height": 52
        },
        "outputId": "5d428e47-8a66-42ed-9c42-7a5eed26a528"
      },
      "source": [
        "data = np.array([[7.5, -1.1,  1.6],\n",
        "                 [0.1,  0.9, -0.7],\n",
        "                 [6.3, -0.9,  3.1],\n",
        "                 [2.5, -0.6,  0.4],\n",
        "                 [2.4, -0.1,  1.0]])\n",
        "print(data.mean(axis=0))\n",
        "print(data.std(axis=0))"
      ],
      "execution_count": 21,
      "outputs": [
        {
          "output_type": "stream",
          "text": [
            "[ 3.76 -0.36  1.08]\n",
            "[2.73027471 0.71442284 1.26396202]\n"
          ],
          "name": "stdout"
        }
      ]
    },
    {
      "cell_type": "markdown",
      "metadata": {
        "colab_type": "text",
        "id": "MWwO_567Of7g"
      },
      "source": [
        "**Write code to normalize this data on a feature-wise basis, so that each feature has mean 0 and standard deviation 1, and store the result in `normalized_data`. Print `normalized_data` along with its per-feature mean and its per-feature standard deviation.**"
      ]
    },
    {
      "cell_type": "code",
      "metadata": {
        "colab_type": "code",
        "id": "8cNQjOwjPUoY",
        "colab": {
          "base_uri": "https://localhost:8080/",
          "height": 139
        },
        "outputId": "25571474-930e-401d-bcc9-d32a6c615a28"
      },
      "source": [
        "normalized_data = (data - data.mean(axis=0)) / data.std(axis=0)\n",
        "print(normalized_data)\n",
        "print(normalized_data.mean(axis=0))\n",
        "print(normalized_data.std(axis=0))"
      ],
      "execution_count": 22,
      "outputs": [
        {
          "output_type": "stream",
          "text": [
            "[[ 1.36982553 -1.03580115  0.41140477]\n",
            " [-1.34052445  1.76366141 -1.40827016]\n",
            " [ 0.93030932 -0.75585489  1.59814928]\n",
            " [-0.46149202 -0.33593551 -0.53799085]\n",
            " [-0.49811837  0.36393013 -0.06329304]]\n",
            "[ 1.88737914e-16  1.11022302e-17 -5.55111512e-18]\n",
            "[1. 1. 1.]\n"
          ],
          "name": "stdout"
        }
      ]
    },
    {
      "cell_type": "markdown",
      "metadata": {
        "colab_type": "text",
        "id": "LUcbZFt7PWbw"
      },
      "source": [
        "Now suppose that you have 3 3-D vectors that each represent *unnormalized class scores*. That is, each 3-D vector represents the scores for three different classes in a classification problem. (For example, these could be the outputs of an image-classification model, with each row corresponding to a particular image and each column corresponding to a particular class, such as 'dog', 'cat', or 'other'.)\n",
        "\n",
        "If each row represented a valid probability distribution, then their elements would sum do 1, but they currently do not:"
      ]
    },
    {
      "cell_type": "code",
      "metadata": {
        "colab_type": "code",
        "id": "o-565kjQQoWo",
        "colab": {
          "base_uri": "https://localhost:8080/",
          "height": 86
        },
        "outputId": "308569f8-2cc4-470f-ea52-6ddd21a4c38f"
      },
      "source": [
        "scores = np.array([[8.2, 6.7, 6.3],\n",
        "                   [9.5, 0.2, 9.3],\n",
        "                   [3.6, 2.7, 9.0]])\n",
        "print(scores)\n",
        "print(scores.sum(axis=1))"
      ],
      "execution_count": 23,
      "outputs": [
        {
          "output_type": "stream",
          "text": [
            "[[8.2 6.7 6.3]\n",
            " [9.5 0.2 9.3]\n",
            " [3.6 2.7 9. ]]\n",
            "[21.2 19.  15.3]\n"
          ],
          "name": "stdout"
        }
      ]
    },
    {
      "cell_type": "markdown",
      "metadata": {
        "colab_type": "text",
        "id": "-8Zeiqb5Rblr"
      },
      "source": [
        "**Write code to compute and print the array `probabilities` by dividing each row of `scores` by its sum. Print `probabilities` and the sum of each of its rows, to verify that each row sums to 1.** Hint: If the rows do not sum to 1, then think about broadcasting and take a look at the `keepdims` keyword argument of NumPy's `sum` function."
      ]
    },
    {
      "cell_type": "code",
      "metadata": {
        "colab_type": "code",
        "id": "m2mF2tPHSWEn",
        "colab": {
          "base_uri": "https://localhost:8080/",
          "height": 86
        },
        "outputId": "3a852e7b-6089-404f-ad57-1c292e8d5a8a"
      },
      "source": [
        "probabilities = scores / scores.sum(axis=1, keepdims=True)\n",
        "print(probabilities)\n",
        "print(probabilities.sum(axis=1))"
      ],
      "execution_count": 24,
      "outputs": [
        {
          "output_type": "stream",
          "text": [
            "[[0.38679245 0.31603774 0.29716981]\n",
            " [0.5        0.01052632 0.48947368]\n",
            " [0.23529412 0.17647059 0.58823529]]\n",
            "[1. 1. 1.]\n"
          ],
          "name": "stdout"
        }
      ]
    },
    {
      "cell_type": "markdown",
      "metadata": {
        "colab_type": "text",
        "id": "RSIJR_Awrkw7"
      },
      "source": [
        "**Complete the `tril_` function below by inserting only 2 lines of code at the bottom of the function.** Hint: Form a mask using broadcasting, and use the mask to modify `X` in place."
      ]
    },
    {
      "cell_type": "code",
      "metadata": {
        "colab_type": "code",
        "id": "GFRy7e-egzBu",
        "colab": {}
      },
      "source": [
        "def tril_(X):\n",
        "    \"\"\"Modify X in place to become lower triangular.\n",
        "\n",
        "    Args:\n",
        "        X: A 2-D NumPy array with shape [M, N].\n",
        "    \"\"\"\n",
        "    if X.ndim != 2:\n",
        "        raise ValueError('X must be a 2-D array.')\n",
        "    M, N = X.shape\n",
        "    i = np.arange(M).reshape(1, M)\n",
        "    j = np.arange(N).reshape(N, 1)\n",
        "    \n",
        "    mask = (i - j) <= 0\n",
        "    X *= mask\n",
        "    pass"
      ],
      "execution_count": 25,
      "outputs": []
    },
    {
      "cell_type": "markdown",
      "metadata": {
        "colab_type": "text",
        "id": "wcnYgEjxrkw9"
      },
      "source": [
        "**Create a random matrix `X` with shape `[3, 3]` using `np.random.rand`, run `tril_(X)`, and verify that `X` is now lower triangular.**"
      ]
    },
    {
      "cell_type": "code",
      "metadata": {
        "colab_type": "code",
        "id": "vjR5-HLsiV_G",
        "colab": {
          "base_uri": "https://localhost:8080/",
          "height": 69
        },
        "outputId": "de5486f6-1723-460c-bdf5-2ae9f3038752"
      },
      "source": [
        "X = np.random.rand(3,3)\n",
        "tril_(X)\n",
        "print(X)"
      ],
      "execution_count": 26,
      "outputs": [
        {
          "output_type": "stream",
          "text": [
            "[[0.45696298 0.         0.        ]\n",
            " [0.04101766 0.42226696 0.        ]\n",
            " [0.54113984 0.3474606  0.1967933 ]]\n"
          ],
          "name": "stdout"
        }
      ]
    },
    {
      "cell_type": "markdown",
      "metadata": {
        "colab_type": "text",
        "id": "7xipO9-lrkxB"
      },
      "source": [
        "**Create a random matrix `X` with shape `[5, 5]` using `np.random.rand`, run `tril_(X)`, and verify that `X` is now lower triangular.**"
      ]
    },
    {
      "cell_type": "code",
      "metadata": {
        "colab_type": "code",
        "id": "nX8Q8o3TrkxD",
        "colab": {
          "base_uri": "https://localhost:8080/",
          "height": 104
        },
        "outputId": "3fcdffbd-45e7-476b-ad89-b84771e010f4"
      },
      "source": [
        "X = np.random.rand(5,5)\n",
        "tril_(X)\n",
        "print(X)"
      ],
      "execution_count": 27,
      "outputs": [
        {
          "output_type": "stream",
          "text": [
            "[[0.20758945 0.         0.         0.         0.        ]\n",
            " [0.33044988 0.21386879 0.         0.         0.        ]\n",
            " [0.84584293 0.97574761 0.1837604  0.         0.        ]\n",
            " [0.95087855 0.05716833 0.86785703 0.5836643  0.        ]\n",
            " [0.31453914 0.09452626 0.62963271 0.86748326 0.85145762]]\n"
          ],
          "name": "stdout"
        }
      ]
    },
    {
      "cell_type": "markdown",
      "metadata": {
        "colab_type": "text",
        "id": "GPtxxYs4Lhva"
      },
      "source": [
        "### Booleans vs. Masks"
      ]
    },
    {
      "cell_type": "markdown",
      "metadata": {
        "colab_type": "text",
        "id": "0J7DU76krkxF"
      },
      "source": [
        "**Create `x` using `x = np.array([1, 2, 3])`, and create `y` using `y = x`.**"
      ]
    },
    {
      "cell_type": "code",
      "metadata": {
        "colab_type": "code",
        "id": "AU2Sk5ybrkxF",
        "colab": {}
      },
      "source": [
        "x = np.array([1, 2, 3])\n",
        "y = x"
      ],
      "execution_count": 28,
      "outputs": []
    },
    {
      "cell_type": "markdown",
      "metadata": {
        "colab_type": "text",
        "id": "Kc2ZypEirkxH"
      },
      "source": [
        "**Print the expression `x == y`.**"
      ]
    },
    {
      "cell_type": "code",
      "metadata": {
        "colab_type": "code",
        "id": "0amFlnYprkxI",
        "colab": {
          "base_uri": "https://localhost:8080/",
          "height": 34
        },
        "outputId": "88e30716-16b6-44a1-ebcd-ba47820e875f"
      },
      "source": [
        "print(x == y)"
      ],
      "execution_count": 29,
      "outputs": [
        {
          "output_type": "stream",
          "text": [
            "[ True  True  True]\n"
          ],
          "name": "stdout"
        }
      ]
    },
    {
      "cell_type": "markdown",
      "metadata": {
        "colab_type": "text",
        "id": "2BfBVMHNrkxL"
      },
      "source": [
        "**Use `np.all` to test whether *all* elements of `x` are equal to their corresponding elements in `y`. You should print the result, which should be a single boolean, `True` or `False`.**"
      ]
    },
    {
      "cell_type": "code",
      "metadata": {
        "colab_type": "code",
        "id": "HLqgLdTLVyYV",
        "colab": {
          "base_uri": "https://localhost:8080/",
          "height": 34
        },
        "outputId": "9ad420c4-bb12-408b-9e12-bf3edaf127c9"
      },
      "source": [
        "print(np.all(x == y))"
      ],
      "execution_count": 30,
      "outputs": [
        {
          "output_type": "stream",
          "text": [
            "True\n"
          ],
          "name": "stdout"
        }
      ]
    },
    {
      "cell_type": "markdown",
      "metadata": {
        "colab_type": "text",
        "id": "OPO5Th1nrkxP"
      },
      "source": [
        "**Modify the 0-th element of `y` via `y[0] = 5`, and again use `np.all` to test whether all elements of `x` are equal to their corresponding elements in `y`, and again print the result.**"
      ]
    },
    {
      "cell_type": "code",
      "metadata": {
        "colab_type": "code",
        "id": "xP1X-3COV-q_",
        "colab": {
          "base_uri": "https://localhost:8080/",
          "height": 34
        },
        "outputId": "dc919f58-5ebd-43d0-bbbc-427cf2c65f21"
      },
      "source": [
        "y[0] = 5\n",
        "print(np.all(x == y))"
      ],
      "execution_count": 31,
      "outputs": [
        {
          "output_type": "stream",
          "text": [
            "True\n"
          ],
          "name": "stdout"
        }
      ]
    },
    {
      "cell_type": "markdown",
      "metadata": {
        "colab_type": "text",
        "id": "7-9o-m4krkxR"
      },
      "source": [
        "**In the Markdown Cell below, answer:**\n",
        "\n",
        "**Is the last result what you expected? Explain what is happening here.**"
      ]
    },
    {
      "cell_type": "markdown",
      "metadata": {
        "colab_type": "text",
        "id": "CNlnclwdrkxT"
      },
      "source": [
        "This makes sense because we did a shallow copy of x to create y. Hence x and y refer to the same memory and so when we modified y we also modified x."
      ]
    },
    {
      "cell_type": "markdown",
      "metadata": {
        "colab_type": "text",
        "id": "jlPGb910rkxT"
      },
      "source": [
        "**Create `x = np.array([1, 2, 3])` and `y = np.array([2, 2, 2])`. Again use `np.all` to test whether all elements of `x` are equal to their corresponding elements in `y`, and again print the result.**"
      ]
    },
    {
      "cell_type": "code",
      "metadata": {
        "colab_type": "code",
        "id": "w1vkvXD1WMr6",
        "colab": {
          "base_uri": "https://localhost:8080/",
          "height": 34
        },
        "outputId": "7064412d-b50f-4b35-c0c1-4ad50ce2d913"
      },
      "source": [
        "x = np.array([1, 2, 3])\n",
        "y = np.array([2, 2, 2])\n",
        "print(np.all(x == y))"
      ],
      "execution_count": 32,
      "outputs": [
        {
          "output_type": "stream",
          "text": [
            "False\n"
          ],
          "name": "stdout"
        }
      ]
    },
    {
      "cell_type": "markdown",
      "metadata": {
        "colab_type": "text",
        "id": "cp7YqS_srkxW"
      },
      "source": [
        "**Use `np.any` to test whether *any* elements of `x` are equal to their corresponding elements in `y`, and again print the result.**"
      ]
    },
    {
      "cell_type": "code",
      "metadata": {
        "colab_type": "code",
        "id": "UNC1sUXqWQ24",
        "colab": {
          "base_uri": "https://localhost:8080/",
          "height": 34
        },
        "outputId": "1cb4736b-3cc9-44c8-e3f2-09aeff188c07"
      },
      "source": [
        "print(np.any(x == y))"
      ],
      "execution_count": 34,
      "outputs": [
        {
          "output_type": "stream",
          "text": [
            "True\n"
          ],
          "name": "stdout"
        }
      ]
    }
  ]
}